{
 "cells": [
  {
   "cell_type": "markdown",
   "metadata": {
    "id": "sc-MREUhK1VV"
   },
   "source": [
    "# MobileBERT Training/Fine-tuning"
   ]
  },
  {
   "cell_type": "markdown",
   "metadata": {
    "id": "E48r2hdyK5ZT"
   },
   "source": [
    "### 1. Colab Setup for **Training**"
   ]
  },
  {
   "cell_type": "code",
   "execution_count": null,
   "metadata": {
    "colab": {
     "base_uri": "https://localhost:8080/"
    },
    "executionInfo": {
     "elapsed": 3200,
     "status": "ok",
     "timestamp": 1756911399790,
     "user": {
      "displayName": "Jomar Cuñado",
      "userId": "05184510986384460930"
     },
     "user_tz": -480
    },
    "id": "nurHYRqPOgsS",
    "outputId": "74bff0cc-fde3-47ec-d719-0e9ecf33b86f"
   },
   "outputs": [],
   "source": [
    "!git clone https://github.com/joms-hub/tagalog-fake-news-detection.git\n",
    "!git config --global user.name \"joms-hub\"\n",
    "!git config --global user.email \"21101932@usc.edu.ph\"\n",
    "\n",
    "%cd /content/tagalog-fake-news-detection\n",
    "!git remote set-url origin https://@github.com/joms-hub/tagalog-fake-news-detection.git\n"
   ]
  },
  {
   "cell_type": "code",
   "execution_count": null,
   "metadata": {
    "colab": {
     "base_uri": "https://localhost:8080/"
    },
    "executionInfo": {
     "elapsed": 28213,
     "status": "ok",
     "timestamp": 1756911428008,
     "user": {
      "displayName": "Jomar Cuñado",
      "userId": "05184510986384460930"
     },
     "user_tz": -480
    },
    "id": "itScVZaGU5kx",
    "outputId": "e0dfe4b1-d5cb-41dd-f473-ea5bc2ccfe37"
   },
   "outputs": [],
   "source": [
    "from google.colab import drive\n",
    "drive.mount('/content/drive')"
   ]
  },
  {
   "cell_type": "code",
   "execution_count": null,
   "metadata": {
    "colab": {
     "base_uri": "https://localhost:8080/"
    },
    "executionInfo": {
     "elapsed": 1571,
     "status": "ok",
     "timestamp": 1756911657584,
     "user": {
      "displayName": "Jomar Cuñado",
      "userId": "05184510986384460930"
     },
     "user_tz": -480
    },
    "id": "qnV8lEovFR65",
    "outputId": "c7093426-16c4-444f-f6b5-f2f801fa1bf6"
   },
   "outputs": [],
   "source": [
    "!git add notebooks/mobilebert_training.ipynb\n",
    "!git commit -m \"add mobilebert training ntbk\"\n",
    "!git push\n",
    "\n",
    "#!pip install nbstripout\n",
    "#!nbstripout /content/tagalog-fake-news-detection/notebooks/mobilebert_training.ipynb\n",
    "\n"
   ]
  },
  {
   "cell_type": "code",
   "execution_count": null,
   "metadata": {
    "executionInfo": {
     "elapsed": 117,
     "status": "ok",
     "timestamp": 1756911705926,
     "user": {
      "displayName": "Jomar Cuñado",
      "userId": "05184510986384460930"
     },
     "user_tz": -480
    },
    "id": "Apw0VYZTF-40"
   },
   "outputs": [],
   "source": [
    "!git"
   ]
  },
  {
   "cell_type": "code",
   "execution_count": null,
   "metadata": {
    "id": "6WFmbLmFP2XU"
   },
   "outputs": [],
   "source": [
    "import os\n",
    "\n",
    "os.environ[\"WANDB_DISABLED\"] = \"true\""
   ]
  },
  {
   "cell_type": "code",
   "execution_count": null,
   "metadata": {
    "colab": {
     "base_uri": "https://localhost:8080/"
    },
    "executionInfo": {
     "elapsed": 14144,
     "status": "ok",
     "timestamp": 1756908031399,
     "user": {
      "displayName": "Jomar Cuñado",
      "userId": "05184510986384460930"
     },
     "user_tz": -480
    },
    "id": "eMyh5wikK_4s",
    "outputId": "9a09f96d-2f69-4cf7-fdd5-9646a9940379"
   },
   "outputs": [],
   "source": [
    "!pip install transformers datasets evaluate torch accelerate"
   ]
  },
  {
   "cell_type": "markdown",
   "metadata": {
    "id": "qCpSijjFQ2C9"
   },
   "source": [
    "### 2. Model Training"
   ]
  },
  {
   "cell_type": "markdown",
   "metadata": {
    "id": "_SecplI5Q4Qa"
   },
   "source": [
    "#### 2.1 Load Preprocessed dataset from Day 2"
   ]
  },
  {
   "cell_type": "code",
   "execution_count": null,
   "metadata": {
    "colab": {
     "base_uri": "https://localhost:8080/"
    },
    "executionInfo": {
     "elapsed": 98,
     "status": "ok",
     "timestamp": 1756667805043,
     "user": {
      "displayName": "Jomar Cuñado",
      "userId": "05184510986384460930"
     },
     "user_tz": -480
    },
    "id": "xz0yDSWNQ_9C",
    "outputId": "78831c69-e24a-4a9b-f796-e0c599afac53"
   },
   "outputs": [],
   "source": [
    "from datasets import load_from_disk\n",
    "\n",
    "train_dataset = load_from_disk(\"/content/tagalog-fake-news-detection/tokenized/MobileBERT_train\")\n",
    "val_dataset   = load_from_disk(\"/content/tagalog-fake-news-detection/tokenized/MobileBERT_val\")\n",
    "test_dataset  = load_from_disk(\"/content/tagalog-fake-news-detection/tokenized/MobileBERT_test\")\n",
    "\n",
    "print(train_dataset, val_dataset, test_dataset)\n"
   ]
  },
  {
   "cell_type": "markdown",
   "metadata": {
    "id": "hi9MWApFRLW2"
   },
   "source": [
    "#### 2.2 Set up model"
   ]
  },
  {
   "cell_type": "code",
   "execution_count": null,
   "metadata": {
    "colab": {
     "base_uri": "https://localhost:8080/"
    },
    "executionInfo": {
     "elapsed": 2982,
     "status": "ok",
     "timestamp": 1756667789894,
     "user": {
      "displayName": "Jomar Cuñado",
      "userId": "05184510986384460930"
     },
     "user_tz": -480
    },
    "id": "AZbXwXvuSEIo",
    "outputId": "2a52a650-df1b-4445-d57a-7128ab23decf"
   },
   "outputs": [],
   "source": [
    "from transformers import MobileBertForSequenceClassification\n",
    "model_name = \"google/mobilebert-uncased\"\n",
    "model = MobileBertForSequenceClassification.from_pretrained(model_name, num_labels=2)"
   ]
  },
  {
   "cell_type": "markdown",
   "metadata": {
    "id": "At5VYpSHXSv-"
   },
   "source": [
    "#### 2.3 Finetuning model with early stopping"
   ]
  },
  {
   "cell_type": "code",
   "execution_count": null,
   "metadata": {
    "colab": {
     "base_uri": "https://localhost:8080/"
    },
    "id": "n_4rZ1fBXVm2",
    "outputId": "dcaf6f12-b005-493e-ff3d-e46b9e49c889"
   },
   "outputs": [],
   "source": [
    "from transformers import TrainingArguments, Trainer, EarlyStoppingCallback\n",
    "from evaluate import load\n",
    "import numpy as np\n",
    "\n",
    "# Define a function to compute metrics\n",
    "def compute_metrics(eval_pred):\n",
    "    f1_metric = load(\"f1\")\n",
    "    acc_metric = load(\"accuracy\")\n",
    "    predictions, labels = eval_pred\n",
    "    predictions = np.argmax(predictions, axis=1)\n",
    "    f1_result = f1_metric.compute(predictions=predictions, references=labels, average=\"weighted\")\n",
    "    acc_result = acc_metric.compute(predictions=predictions, references=labels)\n",
    "    # Combine results into one dictionary for logging\n",
    "    return {\n",
    "        \"f1\": f1_result[\"f1\"],\n",
    "        \"accuracy\": acc_result[\"accuracy\"]\n",
    "    }\n",
    "\n",
    "# Define training arguments with early stopping settings\n",
    "training_args = TrainingArguments(\n",
    "    output_dir='./results',\n",
    "    num_train_epochs=10,\n",
    "    per_device_train_batch_size=32,\n",
    "    per_device_eval_batch_size=32,\n",
    "    learning_rate=2e-5,\n",
    "    weight_decay=0.01,\n",
    "    logging_dir='./logs',\n",
    "    logging_steps=100,\n",
    "    eval_strategy=\"epoch\",\n",
    "    save_strategy=\"epoch\",\n",
    "    load_best_model_at_end=True,\n",
    "    metric_for_best_model=\"f1\",\n",
    "    greater_is_better=True,\n",
    "    report_to=None\n",
    ")\n",
    "\n",
    "# Initialize the Trainer\n",
    "trainer = Trainer(\n",
    "    model=model,\n",
    "    args=training_args,\n",
    "    train_dataset=train_dataset,\n",
    "    eval_dataset=val_dataset,\n",
    "    compute_metrics=compute_metrics,\n",
    "    callbacks=[EarlyStoppingCallback(early_stopping_patience=2)]\n",
    ")\n",
    "\n",
    "# Start the training process\n",
    "trainer.train()"
   ]
  },
  {
   "cell_type": "markdown",
   "metadata": {
    "id": "DQNuZrWp_vCN"
   },
   "source": [
    "### 3. Logging and Saving Outputs"
   ]
  },
  {
   "cell_type": "code",
   "execution_count": null,
   "metadata": {
    "id": "J67g_FuY_6-E"
   },
   "outputs": [],
   "source": [
    "import os\n",
    "import json\n",
    "import pandas as pd\n",
    "import numpy as np\n",
    "from sklearn.metrics import confusion_matrix, classification_report\n",
    "\n",
    "# Optional: Define label names dynamically\n",
    "label_names = ['Real', 'Fake']  # Or load from your dataset/processor\n",
    "\n",
    "# Get predictions on the test set\n",
    "predictions = trainer.predict(test_dataset)\n",
    "\n",
    "# Ensure output directory exists\n",
    "output_dir = \"./outputs\"\n",
    "os.makedirs(output_dir, exist_ok=True)\n",
    "\n",
    "# Extract and save metrics\n",
    "metrics = predictions.metrics\n",
    "metrics_file = os.path.join(output_dir, 'mobilebert_metrics.json')\n",
    "with open(metrics_file, 'w') as f:\n",
    "    json.dump(metrics, f, indent=2)\n",
    "print(f\"Saved metrics to {metrics_file}\")\n",
    "\n",
    "# Generate and print the confusion matrix\n",
    "preds = np.argmax(predictions.predictions, axis=1)\n",
    "cm = confusion_matrix(predictions.label_ids, preds)\n",
    "cm_df = pd.DataFrame(cm, index=label_names, columns=[f'Predicted {n}' for n in label_names])\n",
    "print(\"\\nConfusion Matrix:\")\n",
    "print(cm_df)\n",
    "\n",
    "# Save the confusion matrix to a CSV file\n",
    "cm_file = os.path.join(output_dir, 'mobilebert_cm.csv')\n",
    "cm_df.to_csv(cm_file)\n",
    "print(f\"Saved confusion matrix to {cm_file}\")\n",
    "\n",
    "# Save raw predictions and true labels for error analysis\n",
    "results_df = pd.DataFrame({\n",
    "    'true_label': predictions.label_ids,\n",
    "    'predicted_label': preds\n",
    "})\n",
    "results_file = os.path.join(output_dir, 'mobilebert_predictions.csv')\n",
    "results_df.to_csv(results_file, index=False)\n",
    "print(f\"Saved raw predictions to {results_file}\")\n",
    "\n",
    "# Print and save a full classification report\n",
    "report = classification_report(predictions.label_ids, preds, target_names=label_names, output_dict=True)\n",
    "report_file = os.path.join(output_dir, 'mobilebert_classification_report.json')\n",
    "with open(report_file, 'w') as f:\n",
    "    json.dump(report, f, indent=2)\n",
    "print(\"\\nClassification Report:\")\n",
    "print(pd.DataFrame(report).transpose())\n",
    "print(f\"Saved classification report to {report_file}\")"
   ]
  },
  {
   "cell_type": "markdown",
   "metadata": {
    "id": "mK8DCqh9Do6M"
   },
   "source": [
    "### 6. Push trained model to HuggingFace"
   ]
  },
  {
   "cell_type": "code",
   "execution_count": null,
   "metadata": {
    "id": "mCpiADEnDs7_"
   },
   "outputs": [],
   "source": [
    "!pip install huggingface_hub --upgrade"
   ]
  },
  {
   "cell_type": "code",
   "execution_count": null,
   "metadata": {
    "id": "eOE0k85BKKIj"
   },
   "outputs": [],
   "source": [
    "from huggingface_hub import login\n",
    "\n",
    "login(\"\")  # Paste your token here"
   ]
  },
  {
   "cell_type": "code",
   "execution_count": null,
   "metadata": {
    "id": "wQNsNKy_PIrF"
   },
   "outputs": [],
   "source": [
    "trainer.push_to_hub(\"mobilebert_fake_news_filipino\")"
   ]
  },
  {
   "cell_type": "code",
   "execution_count": null,
   "metadata": {
    "colab": {
     "base_uri": "https://localhost:8080/",
     "height": 35
    },
    "executionInfo": {
     "elapsed": 1587,
     "status": "ok",
     "timestamp": 1756911482802,
     "user": {
      "displayName": "Jomar Cuñado",
      "userId": "05184510986384460930"
     },
     "user_tz": -480
    },
    "id": "62BV36sFY-LO",
    "outputId": "c4b76eed-2399-4904-d57e-864168928dec"
   },
   "outputs": [],
   "source": [
    "import shutil\n",
    "\n",
    "shutil.copy('/content/drive/MyDrive/Colab Notebooks/mobilebert_training.ipynb', '/content/tagalog-fake-news-detection/notebooks')"
   ]
  }
 ],
 "metadata": {
  "colab": {
   "provenance": [
    {
     "file_id": "1WWYQiWdiz4aEPdS9SsPZHf9YYZbLglUQ",
     "timestamp": 1756664229821
    },
    {
     "file_id": "1KTcl17YT6DtVyST7VqqtqSBozrM-aZg7",
     "timestamp": 1756662143399
    }
   ]
  },
  "kernelspec": {
   "display_name": "Python 3",
   "name": "python3"
  },
  "language_info": {
   "name": "python"
  }
 },
 "nbformat": 4,
 "nbformat_minor": 0
}
