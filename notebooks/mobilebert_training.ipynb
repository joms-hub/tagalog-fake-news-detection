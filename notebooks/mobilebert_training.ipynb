{
 "cells": [
  {
   "cell_type": "markdown",
   "metadata": {
    "id": "sc-MREUhK1VV"
   },
   "source": [
    "# TinyBERT Training/Fine-tuning"
   ]
  },
  {
   "cell_type": "markdown",
   "metadata": {
    "id": "E48r2hdyK5ZT"
   },
   "source": [
    "### 1. Colab Setup for **Training**"
   ]
  },
  {
   "cell_type": "code",
   "execution_count": null,
   "metadata": {
    "colab": {
     "base_uri": "https://localhost:8080/"
    },
    "executionInfo": {
     "elapsed": 481,
     "status": "ok",
     "timestamp": 1756707767203,
     "user": {
      "displayName": "January Venice Toledo",
      "userId": "07918729470124897660"
     },
     "user_tz": -480
    },
    "id": "nurHYRqPOgsS",
    "outputId": "79905580-db74-4ffb-feb0-dd3f8ffaa61f"
   },
   "outputs": [],
   "source": [
    "!git clone https://github.com/joms-hub/tagalog-fake-news-detection.git\n",
    "!git config --global user.name \"joms-hub\"\n",
    "!git config --global user.email \"21101932@usc.edu.ph\"\n",
    "\n",
    "%cd /content/tagalog-fake-news-detection\n",
    "!git remote set-url origin https://\"TOKEN\"@github.com/joms-hub/tagalog-fake-news-detection.git\n"
   ]
  },
  {
   "cell_type": "code",
   "execution_count": null,
   "metadata": {
    "colab": {
     "base_uri": "https://localhost:8080/"
    },
    "executionInfo": {
     "elapsed": 3510,
     "status": "ok",
     "timestamp": 1756707770716,
     "user": {
      "displayName": "January Venice Toledo",
      "userId": "07918729470124897660"
     },
     "user_tz": -480
    },
    "id": "itScVZaGU5kx",
    "outputId": "69753d8e-5020-4c11-8234-4ca73fd542fa"
   },
   "outputs": [],
   "source": [
    "from google.colab import drive\n",
    "drive.mount('/content/drive')"
   ]
  },
  {
   "cell_type": "code",
   "execution_count": null,
   "metadata": {
    "executionInfo": {
     "elapsed": 3,
     "status": "ok",
     "timestamp": 1756707770723,
     "user": {
      "displayName": "January Venice Toledo",
      "userId": "07918729470124897660"
     },
     "user_tz": -480
    },
    "id": "6WFmbLmFP2XU"
   },
   "outputs": [],
   "source": [
    "import os\n",
    "\n",
    "os.environ[\"WANDB_DISABLED\"] = \"true\""
   ]
  },
  {
   "cell_type": "code",
   "execution_count": null,
   "metadata": {
    "colab": {
     "base_uri": "https://localhost:8080/"
    },
    "executionInfo": {
     "elapsed": 16591,
     "status": "ok",
     "timestamp": 1756707787317,
     "user": {
      "displayName": "January Venice Toledo",
      "userId": "07918729470124897660"
     },
     "user_tz": -480
    },
    "id": "eMyh5wikK_4s",
    "outputId": "ffeccfd4-8e86-40a5-b297-767516fd2080"
   },
   "outputs": [],
   "source": [
    "!pip install transformers datasets evaluate"
   ]
  },
  {
   "cell_type": "markdown",
   "metadata": {
    "id": "qCpSijjFQ2C9"
   },
   "source": [
    "### 2. Model Training"
   ]
  },
  {
   "cell_type": "markdown",
   "metadata": {
    "id": "_SecplI5Q4Qa"
   },
   "source": [
    "#### 2.1 Load Preprocessed dataset from Day 2"
   ]
  },
  {
   "cell_type": "code",
   "execution_count": null,
   "metadata": {
    "colab": {
     "base_uri": "https://localhost:8080/"
    },
    "executionInfo": {
     "elapsed": 1021,
     "status": "ok",
     "timestamp": 1756707788342,
     "user": {
      "displayName": "January Venice Toledo",
      "userId": "07918729470124897660"
     },
     "user_tz": -480
    },
    "id": "xz0yDSWNQ_9C",
    "outputId": "8a6ce036-6e7f-416d-ce8c-fa238f6d7438"
   },
   "outputs": [],
   "source": [
    "from datasets import load_from_disk\n",
    "\n",
    "train_dataset = load_from_disk(\"/content/tagalog-fake-news-detection/tokenized/MobileBERT_train\")\n",
    "val_dataset   = load_from_disk(\"/content/tagalog-fake-news-detection/tokenized/MobileBERT_val\")\n",
    "test_dataset  = load_from_disk(\"/content/tagalog-fake-news-detection/tokenized/MobileBERT_test\")\n",
    "\n",
    "print(train_dataset, val_dataset, test_dataset)\n"
   ]
  },
  {
   "cell_type": "markdown",
   "metadata": {
    "id": "hi9MWApFRLW2"
   },
   "source": [
    "#### 2.2 Set up model"
   ]
  },
  {
   "cell_type": "code",
   "execution_count": null,
   "metadata": {
    "colab": {
     "base_uri": "https://localhost:8080/"
    },
    "executionInfo": {
     "elapsed": 17415,
     "status": "ok",
     "timestamp": 1756707805753,
     "user": {
      "displayName": "January Venice Toledo",
      "userId": "07918729470124897660"
     },
     "user_tz": -480
    },
    "id": "AZbXwXvuSEIo",
    "outputId": "ad00b50b-5641-4f36-ffce-3e551d5b82ca"
   },
   "outputs": [],
   "source": [
    "from transformers import MobileBertForSequenceClassification\n",
    "model_name = \"google/mobilebert-uncased\"\n",
    "model = MobileBertForSequenceClassification.from_pretrained(model_name, num_labels=2)"
   ]
  },
  {
   "cell_type": "markdown",
   "metadata": {
    "id": "At5VYpSHXSv-"
   },
   "source": [
    "#### 2.3 Finetuning model with early stopping"
   ]
  },
  {
   "cell_type": "code",
   "execution_count": null,
   "metadata": {
    "colab": {
     "base_uri": "https://localhost:8080/",
     "height": 434,
     "referenced_widgets": [
      "73f62e5656ce4de2af47f43d25a42993",
      "c2b139695d1f416eb8c8d0ce22bb3811",
      "559dfe64bf7546a39b06a757f812e24e",
      "9878efa7ac8347a9b07ccce22a43a5b5",
      "d126329c42714bf78c7d2135ec00aa6d",
      "e5bb3fc6726c42b29c2bef596637b22d",
      "23b9d44fd3514b3aac85cf4409ab5a25",
      "6c4154840f524c35b379480f0b8ca919",
      "421972ffe06448e68db04913b0a485b5",
      "c1022b4250a74249b9f2fa5585d22ee4",
      "a3d2cfe161c9420eb40e40d6d0c15bf1",
      "a3d96ec6a810488ab50778a7d572a200",
      "003212045715481b83b897dc669ca39d",
      "116e22e3275048a9b7329d8cd7156639",
      "f238e1817a474cd6bd55b3f1bf5cf847",
      "27a245c9f8da4823b8ffa93cc811e9f6",
      "07d6265e387743f9b6b3124110bcdf29",
      "47121f841df34fc6a43d5f175dcda978",
      "8f694635b4cd4d5c8be36a6cbd640142",
      "14fa31e9fbda430f99e7b43348ae81a6",
      "46bbc71ceda8464eaae48b3b0d9d7226",
      "116ff6bdcb6d4becb3c573f7b357af53"
     ]
    },
    "executionInfo": {
     "elapsed": 611605,
     "status": "ok",
     "timestamp": 1756708572446,
     "user": {
      "displayName": "January Venice Toledo",
      "userId": "07918729470124897660"
     },
     "user_tz": -480
    },
    "id": "n_4rZ1fBXVm2",
    "outputId": "3eca5736-88cf-491e-a0b7-5cd53b14dda6"
   },
   "outputs": [],
   "source": [
    "from transformers import TrainingArguments, Trainer, EarlyStoppingCallback\n",
    "from evaluate import load\n",
    "import numpy as np\n",
    "\n",
    "# Define a function to compute metrics\n",
    "def compute_metrics(eval_pred):\n",
    "    f1_metric = load(\"f1\")\n",
    "    acc_metric = load(\"accuracy\")\n",
    "    predictions, labels = eval_pred\n",
    "    predictions = np.argmax(predictions, axis=1)\n",
    "    f1_result = f1_metric.compute(predictions=predictions, references=labels, average=\"weighted\")\n",
    "    acc_result = acc_metric.compute(predictions=predictions, references=labels)\n",
    "    # Combine results into one dictionary for logging\n",
    "    return {\n",
    "        \"f1\": f1_result[\"f1\"],\n",
    "        \"accuracy\": acc_result[\"accuracy\"]\n",
    "    }\n",
    "\n",
    "# Define training arguments with early stopping settings\n",
    "training_args = TrainingArguments(\n",
    "    output_dir='./results',\n",
    "    num_train_epochs=10,\n",
    "    per_device_train_batch_size=16,\n",
    "    per_device_eval_batch_size=16,\n",
    "    learning_rate=2e-5,\n",
    "    weight_decay=0.01,\n",
    "    logging_dir='./logs',\n",
    "    logging_steps=100,\n",
    "    eval_strategy=\"epoch\",\n",
    "    save_strategy=\"epoch\",\n",
    "    load_best_model_at_end=True,\n",
    "    metric_for_best_model=\"f1\",\n",
    "    greater_is_better=True,\n",
    "    report_to=None\n",
    ")\n",
    "\n",
    "# Initialize the Trainer\n",
    "trainer = Trainer(\n",
    "    model=model,\n",
    "    args=training_args,\n",
    "    train_dataset=train_dataset,\n",
    "    eval_dataset=val_dataset,\n",
    "    compute_metrics=compute_metrics,\n",
    "    callbacks=[EarlyStoppingCallback(early_stopping_patience=2)]\n",
    ")\n",
    "\n",
    "# Start the training process\n",
    "trainer.train()"
   ]
  },
  {
   "cell_type": "markdown",
   "metadata": {
    "id": "DQNuZrWp_vCN"
   },
   "source": [
    "### 3. Logging and Saving Outputs"
   ]
  },
  {
   "cell_type": "code",
   "execution_count": null,
   "metadata": {
    "colab": {
     "base_uri": "https://localhost:8080/",
     "height": 312
    },
    "executionInfo": {
     "elapsed": 8002,
     "status": "ok",
     "timestamp": 1756708595426,
     "user": {
      "displayName": "January Venice Toledo",
      "userId": "07918729470124897660"
     },
     "user_tz": -480
    },
    "id": "J67g_FuY_6-E",
    "outputId": "2e90381e-6638-4beb-e341-ecc469c402c0"
   },
   "outputs": [],
   "source": [
    "import os\n",
    "import json\n",
    "import pandas as pd\n",
    "import numpy as np\n",
    "from sklearn.metrics import confusion_matrix, classification_report\n",
    "\n",
    "# Optional: Define label names dynamically\n",
    "label_names = ['Real', 'Fake']  # Or load from your dataset/processor\n",
    "\n",
    "# Get predictions on the test set\n",
    "predictions = trainer.predict(test_dataset)\n",
    "\n",
    "# Ensure output directory exists\n",
    "output_dir = \"./outputs\"\n",
    "os.makedirs(output_dir, exist_ok=True)\n",
    "\n",
    "# Extract and save metrics\n",
    "metrics = predictions.metrics\n",
    "metrics_file = os.path.join(output_dir, 'mobilebert_metrics.json')\n",
    "with open(metrics_file, 'w') as f:\n",
    "    json.dump(metrics, f, indent=2)\n",
    "print(f\"Saved metrics to {metrics_file}\")\n",
    "\n",
    "# Generate and print the confusion matrix\n",
    "preds = np.argmax(predictions.predictions, axis=1)\n",
    "cm = confusion_matrix(predictions.label_ids, preds)\n",
    "cm_df = pd.DataFrame(cm, index=label_names, columns=[f'Predicted {n}' for n in label_names])\n",
    "print(\"\\nConfusion Matrix:\")\n",
    "print(cm_df)\n",
    "\n",
    "# Save the confusion matrix to a CSV file\n",
    "cm_file = os.path.join(output_dir, 'mobilebert_cm.csv')\n",
    "cm_df.to_csv(cm_file)\n",
    "print(f\"Saved confusion matrix to {cm_file}\")\n",
    "\n",
    "# Save raw predictions and true labels for error analysis\n",
    "results_df = pd.DataFrame({\n",
    "    'true_label': predictions.label_ids,\n",
    "    'predicted_label': preds\n",
    "})\n",
    "results_file = os.path.join(output_dir, 'mobilebert_predictions.csv')\n",
    "results_df.to_csv(results_file, index=False)\n",
    "print(f\"Saved raw predictions to {results_file}\")\n",
    "\n",
    "# Print and save a full classification report\n",
    "report = classification_report(predictions.label_ids, preds, target_names=label_names, output_dict=True)\n",
    "report_file = os.path.join(output_dir, 'mobilebert_classification_report.json')\n",
    "with open(report_file, 'w') as f:\n",
    "    json.dump(report, f, indent=2)\n",
    "print(\"\\nClassification Report:\")\n",
    "print(pd.DataFrame(report).transpose())\n",
    "print(f\"Saved classification report to {report_file}\")"
   ]
  },
  {
   "cell_type": "markdown",
   "metadata": {
    "id": "mK8DCqh9Do6M"
   },
   "source": [
    "### 6. Push trained model to HuggingFace"
   ]
  },
  {
   "cell_type": "code",
   "execution_count": null,
   "metadata": {
    "colab": {
     "base_uri": "https://localhost:8080/"
    },
    "executionInfo": {
     "elapsed": 24889,
     "status": "ok",
     "timestamp": 1756708631505,
     "user": {
      "displayName": "January Venice Toledo",
      "userId": "07918729470124897660"
     },
     "user_tz": -480
    },
    "id": "mCpiADEnDs7_",
    "outputId": "0da30c6b-febe-4102-a822-32b848147b5c"
   },
   "outputs": [],
   "source": [
    "!pip install huggingface_hub --upgrade"
   ]
  },
  {
   "cell_type": "code",
   "execution_count": null,
   "metadata": {
    "executionInfo": {
     "elapsed": 189,
     "status": "ok",
     "timestamp": 1756708705763,
     "user": {
      "displayName": "January Venice Toledo",
      "userId": "07918729470124897660"
     },
     "user_tz": -480
    },
    "id": "eOE0k85BKKIj"
   },
   "outputs": [],
   "source": [
    "from huggingface_hub import login\n",
    "\n",
    "login(\"TOKEN\")  # Paste your token here"
   ]
  },
  {
   "cell_type": "code",
   "execution_count": null,
   "metadata": {
    "colab": {
     "base_uri": "https://localhost:8080/",
     "height": 269,
     "referenced_widgets": [
      "8dedded54e1a47d58594824ecf1ba3d8",
      "c65dd999bd0b46deb3d91ee904922bce",
      "f096c3ce226847b2bc490e9f7eab300d",
      "8b48600979044631beef6c9003e61b77",
      "4f8acd32484d445a9d8ab3d8066b63d0",
      "8217416af3ee4f77a5f39d1edbc30700",
      "efabcc6a65e0494a9cde0e1ca18ebba4",
      "7de6de1fe68846379c08cb6631f6b083",
      "ead8cad01ec84d69bdba9a72bf2881d0",
      "f52de6036b9a41268a306fd38c9b3e05",
      "3a0508dab44340aa8dc1d9d2e1720591",
      "6be325eb4a13461a843c3af15b6442ba",
      "9cac9f386a1a4bde940847e8c52c2b2f",
      "8f4fff7d032b4e5bac749d0e00eeded4",
      "333ac560c82e4cecb0be9b97959f58ae",
      "ec13a01ca8934cd4bf9ea6cfb5aa230b",
      "e47624187ac942abb24469bbc236cee5",
      "3b13a178ed3047cc95fc83e8535ae860",
      "00af36b9183c476e9475d4dd52c89232",
      "919f36cd683944e88fe6065fe4191a4b",
      "7df6173e1a774e97a068f6c0a3150c14",
      "b25ff56cd56643b5ba0347e95b97b264",
      "a454302ee22e458caa0b0860b0bae918",
      "6064bc0209274ab691a13bdd9f1909d5",
      "1235547608014e88a70ed5b27ae03b60",
      "65d5b5db81b64a97b35302c590171d9b",
      "26a6c4778e144efe920864f3e492abd7",
      "b4ffb516b0d3474897259aadd8c6621d",
      "61017a943454406cbf84be8fffe407af",
      "dca206168c214f86b58c6507da6e0e30",
      "bf879cded65941698e308de6e2f3d9c8",
      "afe9e71628614796942ed94923e16954",
      "e2e293c770af4c1a8655ad2c162546dc",
      "e2645dc959f540c3a0ddc60f2b720b17",
      "4660dbafc6474da6b1fd3fcfb365ad0e",
      "9a86f48634a94b69aa98f4335eccf7a5",
      "b121406544d948b580c02ade0dcf2fa9",
      "d2c0f439ad464856a161c3f0be3f4ba1",
      "bf5b7a0d1b3747b8bebb7e8e7b775198",
      "d94755324d3a4b1db72faa92d136f107",
      "37a90fb59ca54f5eb635a02a763a0103",
      "81735411de08442b89244ee276f74195",
      "af888baa6ee84113bdc0a411249e228f",
      "2b67477a1dfc4e55878bd2d64ea01513"
     ]
    },
    "executionInfo": {
     "elapsed": 12636,
     "status": "ok",
     "timestamp": 1756708742733,
     "user": {
      "displayName": "January Venice Toledo",
      "userId": "07918729470124897660"
     },
     "user_tz": -480
    },
    "id": "wQNsNKy_PIrF",
    "outputId": "6e5b25ea-14bb-4253-e7f2-c9261cf06db8"
   },
   "outputs": [],
   "source": [
    "trainer.push_to_hub(\"mobilebert_fake_news_filipino\")"
   ]
  },
  {
   "cell_type": "code",
   "execution_count": null,
   "metadata": {
    "colab": {
     "base_uri": "https://localhost:8080/",
     "height": 36
    },
    "executionInfo": {
     "elapsed": 1968,
     "status": "ok",
     "timestamp": 1756708750531,
     "user": {
      "displayName": "January Venice Toledo",
      "userId": "07918729470124897660"
     },
     "user_tz": -480
    },
    "id": "62BV36sFY-LO",
    "outputId": "01bb23db-c3d0-4369-98a3-fe7e893cebed"
   },
   "outputs": [],
   "source": [
    "import shutil\n",
    "\n",
    "shutil.copy('/content/drive/MyDrive/Colab Notebooks/mobilebert_training.ipynb', '/content/tagalog-fake-news-detection/notebooks')"
   ]
  },
  {
   "cell_type": "code",
   "execution_count": null,
   "metadata": {
    "colab": {
     "base_uri": "https://localhost:8080/"
    },
    "executionInfo": {
     "elapsed": 10190,
     "status": "ok",
     "timestamp": 1756708982668,
     "user": {
      "displayName": "January Venice Toledo",
      "userId": "07918729470124897660"
     },
     "user_tz": -480
    },
    "id": "3aWTkuOzAtQo",
    "outputId": "310d5d09-5547-4587-b343-5f658d0c5003"
   },
   "outputs": [],
   "source": [
    "!pip install nbstripout\n",
    "!nbstripout '/content/tagalog-fake-news-detection/notebooks/mobilebert_training.ipynb'"
   ]
  }
 ],
 "metadata": {
  "accelerator": "GPU",
  "colab": {
   "gpuType": "T4",
   "provenance": [
    {
     "file_id": "18M9I9EGXhACrmxiQ3CBR6y9xL0JMM2rP",
     "timestamp": 1756675479112
    },
    {
     "file_id": "1WWYQiWdiz4aEPdS9SsPZHf9YYZbLglUQ",
     "timestamp": 1756664229821
    },
    {
     "file_id": "1KTcl17YT6DtVyST7VqqtqSBozrM-aZg7",
     "timestamp": 1756662143399
    }
   ]
  },
  "kernelspec": {
   "display_name": "Python 3",
   "name": "python3"
  },
  "language_info": {
   "name": "python"
  }
 },
 "nbformat": 4,
 "nbformat_minor": 0
}
