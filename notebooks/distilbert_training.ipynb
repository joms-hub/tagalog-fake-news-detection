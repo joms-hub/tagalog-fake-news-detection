{
 "cells": [
  {
   "cell_type": "markdown",
   "metadata": {
    "id": "sc-MREUhK1VV"
   },
   "source": [
    "# DistilBERT Training/Fine-tuning"
   ]
  },
  {
   "cell_type": "markdown",
   "metadata": {
    "id": "E48r2hdyK5ZT"
   },
   "source": [
    "### 1. Colab Setup for **Training**"
   ]
  },
  {
   "cell_type": "code",
   "execution_count": null,
   "metadata": {
    "colab": {
     "base_uri": "https://localhost:8080/"
    },
    "executionInfo": {
     "elapsed": 19068,
     "status": "ok",
     "timestamp": 1756657030492,
     "user": {
      "displayName": "Petal Press",
      "userId": "16548391382757309766"
     },
     "user_tz": -480
    },
    "id": "eMyh5wikK_4s",
    "outputId": "679608aa-d504-466c-9727-d30257634008"
   },
   "outputs": [],
   "source": [
    "!pip install transformers datasets evaluate"
   ]
  },
  {
   "cell_type": "markdown",
   "metadata": {
    "id": "qCpSijjFQ2C9"
   },
   "source": [
    "### 2. Model Training"
   ]
  },
  {
   "cell_type": "markdown",
   "metadata": {
    "id": "_SecplI5Q4Qa"
   },
   "source": [
    "#### 2.1 Load Preprocessed dataset from Day 2"
   ]
  },
  {
   "cell_type": "code",
   "execution_count": null,
   "metadata": {
    "colab": {
     "base_uri": "https://localhost:8080/"
    },
    "executionInfo": {
     "elapsed": 3362,
     "status": "ok",
     "timestamp": 1756657033883,
     "user": {
      "displayName": "Petal Press",
      "userId": "16548391382757309766"
     },
     "user_tz": -480
    },
    "id": "xz0yDSWNQ_9C",
    "outputId": "84ddb271-e8b9-481a-b8b9-2b0eed64f7b8"
   },
   "outputs": [],
   "source": [
    "from datasets import load_from_disk\n",
    "\n",
    "train_dataset = load_from_disk(\"/content/tagalog-fake-news-detection/tokenized/DistilBERT_train\")\n",
    "val_dataset   = load_from_disk(\"/content/tagalog-fake-news-detection/tokenized/DistilBERT_val\")\n",
    "test_dataset  = load_from_disk(\"/content/tagalog-fake-news-detection/tokenized/DistilBERT_test\")\n",
    "\n",
    "print(train_dataset, val_dataset, test_dataset)\n"
   ]
  },
  {
   "cell_type": "markdown",
   "metadata": {
    "id": "hi9MWApFRLW2"
   },
   "source": [
    "#### 2.2 Set up model"
   ]
  },
  {
   "cell_type": "code",
   "execution_count": null,
   "metadata": {
    "colab": {
     "base_uri": "https://localhost:8080/",
     "height": 272,
     "referenced_widgets": [
      "c33ba0d62044493d814e4b91b5bbbb1e",
      "ef169ac764ed4fab9998c5e341550ac9",
      "a048386fbfe94a4e8ef3dc1d1802a042",
      "02ef5cdfeb6a4e179a14a9f5070554a5",
      "1e6c74e7c1db42e2af63caacac06a540",
      "5781b1f0cc0040a291442b65d45c600c",
      "2aea570673714c1099388b490edd564b",
      "9a4d629b00b5456394436e5afa816dfb",
      "e36330a78ba84cd0a0b807b15acd7aaf",
      "6868b636f9de48deb18b1158f25c0b30",
      "2c83a5f033394fd18a4f60492acd29ec",
      "f5061540366142d1ba91238bab7bfae3",
      "608de2df160b439c9492980d81e6f9a9",
      "b22c572e0a1c4d6da8d2ef0630874868",
      "49b4524a1a7948d9b391a36a76052251",
      "b29b4d7cd84345a0b9071e22a7dce9a9",
      "878cfeba2c4e4bf1893dfda36134c92f",
      "c0707126fe6440ba98b96c7c6ea20a9b",
      "09a45850997f491184415f3da3466b6b",
      "35c670748b3b4b788446757670721a4f",
      "0b3b021e2cd24fe78eee22216bfe7471",
      "523517fd6f0247169ba0607c08233f5b"
     ]
    },
    "executionInfo": {
     "elapsed": 42109,
     "status": "ok",
     "timestamp": 1756657076014,
     "user": {
      "displayName": "Petal Press",
      "userId": "16548391382757309766"
     },
     "user_tz": -480
    },
    "id": "AZbXwXvuSEIo",
    "outputId": "155e33ff-6044-41b0-d2af-19f546307f61"
   },
   "outputs": [],
   "source": [
    "from transformers import DistilBertForSequenceClassification\n",
    "\n",
    "model_name = \"distilbert-base-multilingual-cased\"\n",
    "model = DistilBertForSequenceClassification.from_pretrained(model_name, num_labels=2)\n"
   ]
  },
  {
   "cell_type": "markdown",
   "metadata": {
    "id": "At5VYpSHXSv-"
   },
   "source": [
    "#### 2.3 Finetuning model with early stopping"
   ]
  },
  {
   "cell_type": "code",
   "execution_count": null,
   "metadata": {
    "colab": {
     "base_uri": "https://localhost:8080/",
     "height": 470,
     "referenced_widgets": [
      "1965ff87af0a4b6882a2be02b611415b",
      "11ba5919825540f0b99a72e5ad04910d",
      "47eb944b37ad4da4bd2a0c5321695267",
      "3226c19cb65244bca3043fcf09da9509",
      "ca864065435645fb95eed36af7c26f6f",
      "f31487ef802a42e3ab7879bfc83a0f4f",
      "4ad36d3e2aa049f79a7f56bac7ec4da9",
      "5018da5a1c7249788ea109ef814ad8f4",
      "0646e46b5e0b476bacb4767b6acd00ee",
      "f64af1f9591b417391c7c830164a2935",
      "951287476e1547749a3ea416f0df2b77",
      "e717a0471ad24d57a4126ee872e803f8",
      "ecf63037597c428fa4fb05eed068419d",
      "9e492f7deb2e4f86a3f52ca661510700",
      "e848f9332b4b49b095f8d892d524ed86",
      "15308675eac54e8aa26a43de2725de65",
      "90e5e76fa8d1413998bc5a6d50881293",
      "f6062d4d6a13418bae1d244b657ab094",
      "27b55c661bd74217b0cf67f0d5d8c4d7",
      "29b98e58bdee4d1298c3f1061121b6b3",
      "e2a0651751bb4bd298ddd520194881d0",
      "44cb7c10799a4cbf8f683c9820bcacd2"
     ]
    },
    "executionInfo": {
     "elapsed": 1182652,
     "status": "ok",
     "timestamp": 1756658298233,
     "user": {
      "displayName": "Petal Press",
      "userId": "16548391382757309766"
     },
     "user_tz": -480
    },
    "id": "n_4rZ1fBXVm2",
    "outputId": "183cdd36-4780-4bd1-af0b-45b727727ea1"
   },
   "outputs": [],
   "source": [
    "from transformers import TrainingArguments, Trainer, EarlyStoppingCallback\n",
    "from evaluate import load\n",
    "import numpy as np\n",
    "\n",
    "# Define a function to compute metrics\n",
    "def compute_metrics(eval_pred):\n",
    "    f1_metric = load(\"f1\")\n",
    "    acc_metric = load(\"accuracy\")\n",
    "    predictions, labels = eval_pred\n",
    "    predictions = np.argmax(predictions, axis=1)\n",
    "    f1_result = f1_metric.compute(predictions=predictions, references=labels, average=\"weighted\")\n",
    "    acc_result = acc_metric.compute(predictions=predictions, references=labels)\n",
    "    # Combine results into one dictionary for logging\n",
    "    return {\n",
    "        \"f1\": f1_result[\"f1\"],\n",
    "        \"accuracy\": acc_result[\"accuracy\"]\n",
    "    }\n",
    "\n",
    "# Define training arguments with early stopping settings\n",
    "training_args = TrainingArguments(\n",
    "    output_dir='./tagalog-fake-news-detection/results',\n",
    "    num_train_epochs=10,\n",
    "    per_device_train_batch_size=32,\n",
    "    per_device_eval_batch_size=32,\n",
    "    learning_rate=2e-5,\n",
    "    weight_decay=0.01,\n",
    "    logging_dir='./tagalog-fake-news-detection/logs',\n",
    "    logging_steps=100,\n",
    "    eval_strategy=\"epoch\",\n",
    "    save_strategy=\"epoch\",\n",
    "    load_best_model_at_end=True,\n",
    "    metric_for_best_model=\"f1\",\n",
    "    greater_is_better=True,\n",
    "    report_to=None\n",
    ")\n",
    "\n",
    "# Initialize the Trainer\n",
    "trainer = Trainer(\n",
    "    model=model,\n",
    "    args=training_args,\n",
    "    train_dataset=train_dataset,\n",
    "    eval_dataset=val_dataset,\n",
    "    compute_metrics=compute_metrics,\n",
    "    callbacks=[EarlyStoppingCallback(early_stopping_patience=2)]\n",
    ")\n",
    "\n",
    "# Start the training process\n",
    "trainer.train()"
   ]
  },
  {
   "cell_type": "code",
   "execution_count": null,
   "metadata": {
    "executionInfo": {
     "elapsed": 39732,
     "status": "ok",
     "timestamp": 1756658923668,
     "user": {
      "displayName": "Petal Press",
      "userId": "16548391382757309766"
     },
     "user_tz": -480
    },
    "id": "GQBnynyYBjK0"
   },
   "outputs": [],
   "source": [
    "trainer.save_model(\"/content/tagalog-fake-news-detection/trained_models\")  # After training, this saves the best checkpoint/model"
   ]
  },
  {
   "cell_type": "markdown",
   "metadata": {
    "id": "DQNuZrWp_vCN"
   },
   "source": [
    "### 3. Logging and Saving Outputs"
   ]
  },
  {
   "cell_type": "code",
   "execution_count": null,
   "metadata": {
    "colab": {
     "base_uri": "https://localhost:8080/",
     "height": 341
    },
    "executionInfo": {
     "elapsed": 8492,
     "status": "ok",
     "timestamp": 1756658597632,
     "user": {
      "displayName": "Petal Press",
      "userId": "16548391382757309766"
     },
     "user_tz": -480
    },
    "id": "J67g_FuY_6-E",
    "outputId": "bd5c150d-857d-448b-e629-8039e98fbf94"
   },
   "outputs": [],
   "source": [
    "import os\n",
    "import json\n",
    "import pandas as pd\n",
    "import numpy as np\n",
    "from sklearn.metrics import confusion_matrix, classification_report\n",
    "\n",
    "# Optional: Define label names dynamically\n",
    "label_names = ['Real', 'Fake']  # Or load from your dataset/processor\n",
    "\n",
    "# Get predictions on the test set\n",
    "predictions = trainer.predict(test_dataset)\n",
    "\n",
    "# Ensure output directory exists\n",
    "output_dir = \"./tagalog-fake-news-detection/outputs\"\n",
    "os.makedirs(output_dir, exist_ok=True)\n",
    "\n",
    "# Extract and save metrics\n",
    "metrics = predictions.metrics\n",
    "metrics_file = os.path.join(output_dir, 'distilbert_metrics.json')\n",
    "with open(metrics_file, 'w') as f:\n",
    "    json.dump(metrics, f, indent=2)\n",
    "print(f\"Saved metrics to {metrics_file}\")\n",
    "\n",
    "# Generate and print the confusion matrix\n",
    "preds = np.argmax(predictions.predictions, axis=1)\n",
    "cm = confusion_matrix(predictions.label_ids, preds)\n",
    "cm_df = pd.DataFrame(cm, index=label_names, columns=[f'Predicted {n}' for n in label_names])\n",
    "print(\"\\nConfusion Matrix:\")\n",
    "print(cm_df)\n",
    "\n",
    "# Save the confusion matrix to a CSV file\n",
    "cm_file = os.path.join(output_dir, 'confusion_matrix.csv')\n",
    "cm_df.to_csv(cm_file)\n",
    "print(f\"Saved confusion matrix to {cm_file}\")\n",
    "\n",
    "# Save raw predictions and true labels for error analysis\n",
    "results_df = pd.DataFrame({\n",
    "    'true_label': predictions.label_ids,\n",
    "    'predicted_label': preds\n",
    "})\n",
    "results_file = os.path.join(output_dir, 'predictions.csv')\n",
    "results_df.to_csv(results_file, index=False)\n",
    "print(f\"Saved raw predictions to {results_file}\")\n",
    "\n",
    "# Print and save a full classification report\n",
    "report = classification_report(predictions.label_ids, preds, target_names=label_names, output_dict=True)\n",
    "report_file = os.path.join(output_dir, 'classification_report.json')\n",
    "with open(report_file, 'w') as f:\n",
    "    json.dump(report, f, indent=2)\n",
    "print(\"\\nClassification Report:\")\n",
    "print(pd.DataFrame(report).transpose())\n",
    "print(f\"Saved classification report to {report_file}\")"
   ]
  },
  {
   "cell_type": "markdown",
   "metadata": {
    "id": "mK8DCqh9Do6M"
   },
   "source": [
    "### 6. Push trained model to HuggingFace"
   ]
  },
  {
   "cell_type": "code",
   "execution_count": null,
   "metadata": {
    "colab": {
     "base_uri": "https://localhost:8080/"
    },
    "executionInfo": {
     "elapsed": 7090,
     "status": "ok",
     "timestamp": 1756659393812,
     "user": {
      "displayName": "Petal Press",
      "userId": "16548391382757309766"
     },
     "user_tz": -480
    },
    "id": "mCpiADEnDs7_",
    "outputId": "f8a7d6b3-de03-42c1-bee4-727931eba607"
   },
   "outputs": [],
   "source": [
    "!pip install huggingface_hub --upgrade"
   ]
  },
  {
   "cell_type": "code",
   "execution_count": null,
   "metadata": {
    "colab": {
     "base_uri": "https://localhost:8080/",
     "height": 668
    },
    "executionInfo": {
     "elapsed": 131,
     "status": "error",
     "timestamp": 1756661075332,
     "user": {
      "displayName": "Petal Press",
      "userId": "16548391382757309766"
     },
     "user_tz": -480
    },
    "id": "eOE0k85BKKIj",
    "outputId": "bc99333e-a536-44d2-afa0-3c88fd49b8dc"
   },
   "outputs": [],
   "source": [
    "from huggingface_hub import login\n",
    "\n",
    "login(\"YOUR_HF_TOKEN\")  # Paste your token here"
   ]
  }
 ],
 "metadata": {
  "accelerator": "GPU",
  "colab": {
   "authorship_tag": "ABX9TyOHY+dK2nmqXtdea4FIOL7G",
   "gpuType": "T4",
   "provenance": []
  },
  "kernelspec": {
   "display_name": "Python 3",
   "name": "python3"
  },
  "language_info": {
   "name": "python"
  }
 },
 "nbformat": 4,
 "nbformat_minor": 0
}
