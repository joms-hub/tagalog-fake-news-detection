{
  "metadata": {
    "kernelspec": {
      "display_name": "Python 3",
      "name": "python3"
    },
    "language_info": {
      "name": "python",
      "version": "3.11.13",
      "mimetype": "text/x-python",
      "codemirror_mode": {
        "name": "ipython",
        "version": 3
      },
      "pygments_lexer": "ipython3",
      "nbconvert_exporter": "python",
      "file_extension": ".py"
    },
    "kaggle": {
      "accelerator": "gpu",
      "dataSources": [],
      "dockerImageVersionId": 31090,
      "isInternetEnabled": true,
      "language": "python",
      "sourceType": "notebook",
      "isGpuEnabled": true
    },
    "colab": {
      "provenance": []
    }
  },
  "nbformat_minor": 0,
  "nbformat": 4,
  "cells": [
    {
      "cell_type": "code",
      "source": [
        "# 1. Load code/data\n",
        "!git clone https://github.com/joms-hub/tagalog-fake-news-detection.git\n",
        "import os\n",
        "os.chdir('/kaggle/working/tagalog-fake-news-detection')\n",
        "\n",
        "# 2. Install packages (if needed)\n",
        "!pip install transformers datasets evaluate huggingface_hub accelerate torch"
      ],
      "metadata": {
        "_uuid": "8f2839f25d086af736a60e9eeb907d3b93b6e0e5",
        "_cell_guid": "b1076dfc-b9ad-4769-8c92-a6c4dae69d19",
        "trusted": true,
        "execution": {
          "iopub.status.busy": "2025-09-03T15:13:45.946624Z",
          "iopub.execute_input": "2025-09-03T15:13:45.947239Z",
          "iopub.status.idle": "2025-09-03T15:13:54.266116Z",
          "shell.execute_reply.started": "2025-09-03T15:13:45.947196Z",
          "shell.execute_reply": "2025-09-03T15:13:54.265430Z"
        },
        "id": "o66oW8XmQyUs",
        "outputId": "b7ffdcb3-3674-4f9f-b7fa-117be5d22b6e"
      },
      "outputs": [
        {
          "name": "stdout",
          "text": "Cloning into 'tagalog-fake-news-detection'...\nremote: Enumerating objects: 173, done.\u001b[K\nremote: Counting objects: 100% (173/173), done.\u001b[K\nremote: Compressing objects: 100% (116/116), done.\u001b[K\nremote: Total 173 (delta 83), reused 126 (delta 53), pack-reused 0 (from 0)\u001b[K\nReceiving objects: 100% (173/173), 4.85 MiB | 19.77 MiB/s, done.\nResolving deltas: 100% (83/83), done.\nRequirement already satisfied: transformers in /usr/local/lib/python3.11/dist-packages (4.52.4)\nRequirement already satisfied: datasets in /usr/local/lib/python3.11/dist-packages (3.6.0)\nCollecting evaluate\n  Using cached evaluate-0.4.5-py3-none-any.whl.metadata (9.5 kB)\nRequirement already satisfied: huggingface_hub in /usr/local/lib/python3.11/dist-packages (0.33.1)\nRequirement already satisfied: accelerate in /usr/local/lib/python3.11/dist-packages (1.8.1)\nRequirement already satisfied: torch in /usr/local/lib/python3.11/dist-packages (2.6.0+cu124)\nRequirement already satisfied: filelock in /usr/local/lib/python3.11/dist-packages (from transformers) (3.18.0)\nRequirement already satisfied: numpy>=1.17 in /usr/local/lib/python3.11/dist-packages (from transformers) (1.26.4)\nRequirement already satisfied: packaging>=20.0 in /usr/local/lib/python3.11/dist-packages (from transformers) (25.0)\nRequirement already satisfied: pyyaml>=5.1 in /usr/local/lib/python3.11/dist-packages (from transformers) (6.0.2)\nRequirement already satisfied: regex!=2019.12.17 in /usr/local/lib/python3.11/dist-packages (from transformers) (2024.11.6)\nRequirement already satisfied: requests in /usr/local/lib/python3.11/dist-packages (from transformers) (2.32.4)\nRequirement already satisfied: tokenizers<0.22,>=0.21 in /usr/local/lib/python3.11/dist-packages (from transformers) (0.21.2)\nRequirement already satisfied: safetensors>=0.4.3 in /usr/local/lib/python3.11/dist-packages (from transformers) (0.5.3)\nRequirement already satisfied: tqdm>=4.27 in /usr/local/lib/python3.11/dist-packages (from transformers) (4.67.1)\nRequirement already satisfied: pyarrow>=15.0.0 in /usr/local/lib/python3.11/dist-packages (from datasets) (19.0.1)\nRequirement already satisfied: dill<0.3.9,>=0.3.0 in /usr/local/lib/python3.11/dist-packages (from datasets) (0.3.8)\nRequirement already satisfied: pandas in /usr/local/lib/python3.11/dist-packages (from datasets) (2.2.3)\nRequirement already satisfied: xxhash in /usr/local/lib/python3.11/dist-packages (from datasets) (3.5.0)\nRequirement already satisfied: multiprocess<0.70.17 in /usr/local/lib/python3.11/dist-packages (from datasets) (0.70.16)\nRequirement already satisfied: fsspec<=2025.3.0,>=2023.1.0 in /usr/local/lib/python3.11/dist-packages (from fsspec[http]<=2025.3.0,>=2023.1.0->datasets) (2025.3.0)\nRequirement already satisfied: typing-extensions>=3.7.4.3 in /usr/local/lib/python3.11/dist-packages (from huggingface_hub) (4.14.0)\nRequirement already satisfied: hf-xet<2.0.0,>=1.1.2 in /usr/local/lib/python3.11/dist-packages (from huggingface_hub) (1.1.5)\nRequirement already satisfied: psutil in /usr/local/lib/python3.11/dist-packages (from accelerate) (7.0.0)\nRequirement already satisfied: networkx in /usr/local/lib/python3.11/dist-packages (from torch) (3.5)\nRequirement already satisfied: jinja2 in /usr/local/lib/python3.11/dist-packages (from torch) (3.1.6)\nRequirement already satisfied: nvidia-cuda-nvrtc-cu12==12.4.127 in /usr/local/lib/python3.11/dist-packages (from torch) (12.4.127)\nRequirement already satisfied: nvidia-cuda-runtime-cu12==12.4.127 in /usr/local/lib/python3.11/dist-packages (from torch) (12.4.127)\nRequirement already satisfied: nvidia-cuda-cupti-cu12==12.4.127 in /usr/local/lib/python3.11/dist-packages (from torch) (12.4.127)\nRequirement already satisfied: nvidia-cudnn-cu12==9.1.0.70 in /usr/local/lib/python3.11/dist-packages (from torch) (9.1.0.70)\nRequirement already satisfied: nvidia-cublas-cu12==12.4.5.8 in /usr/local/lib/python3.11/dist-packages (from torch) (12.4.5.8)\nRequirement already satisfied: nvidia-cufft-cu12==11.2.1.3 in /usr/local/lib/python3.11/dist-packages (from torch) (11.2.1.3)\nRequirement already satisfied: nvidia-curand-cu12==10.3.5.147 in /usr/local/lib/python3.11/dist-packages (from torch) (10.3.5.147)\nCollecting nvidia-cusolver-cu12==11.6.1.9 (from torch)\n  Using cached nvidia_cusolver_cu12-11.6.1.9-py3-none-manylinux2014_x86_64.whl.metadata (1.6 kB)\nRequirement already satisfied: nvidia-cusparse-cu12==12.3.1.170 in /usr/local/lib/python3.11/dist-packages (from torch) (12.3.1.170)\nRequirement already satisfied: nvidia-cusparselt-cu12==0.6.2 in /usr/local/lib/python3.11/dist-packages (from torch) (0.6.2)\nRequirement already satisfied: nvidia-nccl-cu12==2.21.5 in /usr/local/lib/python3.11/dist-packages (from torch) (2.21.5)\nRequirement already satisfied: nvidia-nvtx-cu12==12.4.127 in /usr/local/lib/python3.11/dist-packages (from torch) (12.4.127)\nRequirement already satisfied: nvidia-nvjitlink-cu12==12.4.127 in /usr/local/lib/python3.11/dist-packages (from torch) (12.4.127)\nRequirement already satisfied: triton==3.2.0 in /usr/local/lib/python3.11/dist-packages (from torch) (3.2.0)\nRequirement already satisfied: sympy==1.13.1 in /usr/local/lib/python3.11/dist-packages (from torch) (1.13.1)\nRequirement already satisfied: mpmath<1.4,>=1.1.0 in /usr/local/lib/python3.11/dist-packages (from sympy==1.13.1->torch) (1.3.0)\nRequirement already satisfied: aiohttp!=4.0.0a0,!=4.0.0a1 in /usr/local/lib/python3.11/dist-packages (from fsspec[http]<=2025.3.0,>=2023.1.0->datasets) (3.12.13)\nRequirement already satisfied: mkl_fft in /usr/local/lib/python3.11/dist-packages (from numpy>=1.17->transformers) (1.3.8)\nRequirement already satisfied: mkl_random in /usr/local/lib/python3.11/dist-packages (from numpy>=1.17->transformers) (1.2.4)\nRequirement already satisfied: mkl_umath in /usr/local/lib/python3.11/dist-packages (from numpy>=1.17->transformers) (0.1.1)\nRequirement already satisfied: mkl in /usr/local/lib/python3.11/dist-packages (from numpy>=1.17->transformers) (2025.2.0)\nRequirement already satisfied: tbb4py in /usr/local/lib/python3.11/dist-packages (from numpy>=1.17->transformers) (2022.2.0)\nRequirement already satisfied: mkl-service in /usr/local/lib/python3.11/dist-packages (from numpy>=1.17->transformers) (2.4.1)\nRequirement already satisfied: charset_normalizer<4,>=2 in /usr/local/lib/python3.11/dist-packages (from requests->transformers) (3.4.2)\nRequirement already satisfied: idna<4,>=2.5 in /usr/local/lib/python3.11/dist-packages (from requests->transformers) (3.10)\nRequirement already satisfied: urllib3<3,>=1.21.1 in /usr/local/lib/python3.11/dist-packages (from requests->transformers) (2.5.0)\nRequirement already satisfied: certifi>=2017.4.17 in /usr/local/lib/python3.11/dist-packages (from requests->transformers) (2025.6.15)\nRequirement already satisfied: MarkupSafe>=2.0 in /usr/local/lib/python3.11/dist-packages (from jinja2->torch) (3.0.2)\nRequirement already satisfied: python-dateutil>=2.8.2 in /usr/local/lib/python3.11/dist-packages (from pandas->datasets) (2.9.0.post0)\nRequirement already satisfied: pytz>=2020.1 in /usr/local/lib/python3.11/dist-packages (from pandas->datasets) (2025.2)\nRequirement already satisfied: tzdata>=2022.7 in /usr/local/lib/python3.11/dist-packages (from pandas->datasets) (2025.2)\nRequirement already satisfied: aiohappyeyeballs>=2.5.0 in /usr/local/lib/python3.11/dist-packages (from aiohttp!=4.0.0a0,!=4.0.0a1->fsspec[http]<=2025.3.0,>=2023.1.0->datasets) (2.6.1)\nRequirement already satisfied: aiosignal>=1.1.2 in /usr/local/lib/python3.11/dist-packages (from aiohttp!=4.0.0a0,!=4.0.0a1->fsspec[http]<=2025.3.0,>=2023.1.0->datasets) (1.3.2)\nRequirement already satisfied: attrs>=17.3.0 in /usr/local/lib/python3.11/dist-packages (from aiohttp!=4.0.0a0,!=4.0.0a1->fsspec[http]<=2025.3.0,>=2023.1.0->datasets) (25.3.0)\nRequirement already satisfied: frozenlist>=1.1.1 in /usr/local/lib/python3.11/dist-packages (from aiohttp!=4.0.0a0,!=4.0.0a1->fsspec[http]<=2025.3.0,>=2023.1.0->datasets) (1.7.0)\nRequirement already satisfied: multidict<7.0,>=4.5 in /usr/local/lib/python3.11/dist-packages (from aiohttp!=4.0.0a0,!=4.0.0a1->fsspec[http]<=2025.3.0,>=2023.1.0->datasets) (6.6.3)\nRequirement already satisfied: propcache>=0.2.0 in /usr/local/lib/python3.11/dist-packages (from aiohttp!=4.0.0a0,!=4.0.0a1->fsspec[http]<=2025.3.0,>=2023.1.0->datasets) (0.3.2)\nRequirement already satisfied: yarl<2.0,>=1.17.0 in /usr/local/lib/python3.11/dist-packages (from aiohttp!=4.0.0a0,!=4.0.0a1->fsspec[http]<=2025.3.0,>=2023.1.0->datasets) (1.20.1)\nRequirement already satisfied: six>=1.5 in /usr/local/lib/python3.11/dist-packages (from python-dateutil>=2.8.2->pandas->datasets) (1.17.0)\nRequirement already satisfied: intel-openmp<2026,>=2024 in /usr/local/lib/python3.11/dist-packages (from mkl->numpy>=1.17->transformers) (2024.2.0)\nRequirement already satisfied: tbb==2022.* in /usr/local/lib/python3.11/dist-packages (from mkl->numpy>=1.17->transformers) (2022.2.0)\nRequirement already satisfied: tcmlib==1.* in /usr/local/lib/python3.11/dist-packages (from tbb==2022.*->mkl->numpy>=1.17->transformers) (1.4.0)\nRequirement already satisfied: intel-cmplr-lib-rt in /usr/local/lib/python3.11/dist-packages (from mkl_umath->numpy>=1.17->transformers) (2024.2.0)\nRequirement already satisfied: intel-cmplr-lib-ur==2024.2.0 in /usr/local/lib/python3.11/dist-packages (from intel-openmp<2026,>=2024->mkl->numpy>=1.17->transformers) (2024.2.0)\nUsing cached evaluate-0.4.5-py3-none-any.whl (84 kB)\nUsing cached nvidia_cusolver_cu12-11.6.1.9-py3-none-manylinux2014_x86_64.whl (127.9 MB)\nInstalling collected packages: nvidia-cusolver-cu12, evaluate\n  Attempting uninstall: nvidia-cusolver-cu12\n    Found existing installation: nvidia-cusolver-cu12 11.6.3.83\n    Uninstalling nvidia-cusolver-cu12-11.6.3.83:\n      Successfully uninstalled nvidia-cusolver-cu12-11.6.3.83\nSuccessfully installed evaluate-0.4.5 nvidia-cusolver-cu12-11.6.1.9\n",
          "output_type": "stream"
        }
      ],
      "execution_count": null
    },
    {
      "cell_type": "code",
      "source": [
        "from google.colab import drive\n",
        "drive.mount('/content/drive')"
      ],
      "metadata": {
        "colab": {
          "base_uri": "https://localhost:8080/"
        },
        "id": "un5-K5EtQ8wW",
        "outputId": "a35154f6-544d-44ca-f9b0-75829d4d3edb"
      },
      "execution_count": 1,
      "outputs": [
        {
          "output_type": "stream",
          "name": "stdout",
          "text": [
            "Mounted at /content/drive\n"
          ]
        }
      ]
    },
    {
      "cell_type": "code",
      "source": [
        "!pip install nbstripout\n",
        "!nbstripout '/content/drive/MyDrive/Colab Notebooks/electra-small-training.ipynb'"
      ],
      "metadata": {
        "trusted": true,
        "execution": {
          "iopub.status.busy": "2025-09-03T15:13:59.510899Z",
          "iopub.execute_input": "2025-09-03T15:13:59.511573Z",
          "iopub.status.idle": "2025-09-03T15:14:07.335580Z",
          "shell.execute_reply.started": "2025-09-03T15:13:59.511544Z",
          "shell.execute_reply": "2025-09-03T15:14:07.334597Z"
        },
        "colab": {
          "base_uri": "https://localhost:8080/"
        },
        "id": "Y0PLFu3hQyUv",
        "outputId": "c5b1e4b2-69be-4666-b757-3edd1e0b177a"
      },
      "outputs": [
        {
          "output_type": "stream",
          "name": "stdout",
          "text": [
            "Collecting nbstripout\n",
            "  Downloading nbstripout-0.8.1-py2.py3-none-any.whl.metadata (19 kB)\n",
            "Requirement already satisfied: nbformat in /usr/local/lib/python3.12/dist-packages (from nbstripout) (5.10.4)\n",
            "Requirement already satisfied: fastjsonschema>=2.15 in /usr/local/lib/python3.12/dist-packages (from nbformat->nbstripout) (2.21.2)\n",
            "Requirement already satisfied: jsonschema>=2.6 in /usr/local/lib/python3.12/dist-packages (from nbformat->nbstripout) (4.25.1)\n",
            "Requirement already satisfied: jupyter-core!=5.0.*,>=4.12 in /usr/local/lib/python3.12/dist-packages (from nbformat->nbstripout) (5.8.1)\n",
            "Requirement already satisfied: traitlets>=5.1 in /usr/local/lib/python3.12/dist-packages (from nbformat->nbstripout) (5.7.1)\n",
            "Requirement already satisfied: attrs>=22.2.0 in /usr/local/lib/python3.12/dist-packages (from jsonschema>=2.6->nbformat->nbstripout) (25.3.0)\n",
            "Requirement already satisfied: jsonschema-specifications>=2023.03.6 in /usr/local/lib/python3.12/dist-packages (from jsonschema>=2.6->nbformat->nbstripout) (2025.4.1)\n",
            "Requirement already satisfied: referencing>=0.28.4 in /usr/local/lib/python3.12/dist-packages (from jsonschema>=2.6->nbformat->nbstripout) (0.36.2)\n",
            "Requirement already satisfied: rpds-py>=0.7.1 in /usr/local/lib/python3.12/dist-packages (from jsonschema>=2.6->nbformat->nbstripout) (0.27.0)\n",
            "Requirement already satisfied: platformdirs>=2.5 in /usr/local/lib/python3.12/dist-packages (from jupyter-core!=5.0.*,>=4.12->nbformat->nbstripout) (4.3.8)\n",
            "Requirement already satisfied: typing-extensions>=4.4.0 in /usr/local/lib/python3.12/dist-packages (from referencing>=0.28.4->jsonschema>=2.6->nbformat->nbstripout) (4.15.0)\n",
            "Downloading nbstripout-0.8.1-py2.py3-none-any.whl (16 kB)\n",
            "Installing collected packages: nbstripout\n",
            "Successfully installed nbstripout-0.8.1\n"
          ]
        }
      ],
      "execution_count": 6
    },
    {
      "cell_type": "code",
      "source": [
        "\n",
        "# 3. Load preprocessed datasets\n",
        "from datasets import load_from_disk\n",
        "train_dataset = load_from_disk(\"/kaggle/working/tagalog-fake-news-detection/tokenized/ELECTRA-small_train\")\n",
        "val_dataset   = load_from_disk(\"/kaggle/working/tagalog-fake-news-detection/tokenized/ELECTRA-small_val\")\n",
        "test_dataset  = load_from_disk(\"/kaggle/working/tagalog-fake-news-detection/tokenized/ELECTRA-small_test\")\n"
      ],
      "metadata": {
        "trusted": true,
        "execution": {
          "iopub.status.busy": "2025-09-03T15:14:12.152140Z",
          "iopub.execute_input": "2025-09-03T15:14:12.152461Z",
          "iopub.status.idle": "2025-09-03T15:14:13.479664Z",
          "shell.execute_reply.started": "2025-09-03T15:14:12.152433Z",
          "shell.execute_reply": "2025-09-03T15:14:13.479074Z"
        },
        "id": "R4EIVh3NQyUw"
      },
      "outputs": [],
      "execution_count": null
    },
    {
      "cell_type": "code",
      "source": [
        "print(train_dataset, val_dataset, test_dataset)"
      ],
      "metadata": {
        "trusted": true,
        "execution": {
          "iopub.status.busy": "2025-09-03T15:14:16.141992Z",
          "iopub.execute_input": "2025-09-03T15:14:16.142835Z",
          "iopub.status.idle": "2025-09-03T15:14:16.146841Z",
          "shell.execute_reply.started": "2025-09-03T15:14:16.142810Z",
          "shell.execute_reply": "2025-09-03T15:14:16.146053Z"
        },
        "id": "O_lMqudNQyUx",
        "outputId": "e5167b21-4cbd-456e-9e49-f6b254bccfc7"
      },
      "outputs": [
        {
          "name": "stdout",
          "text": "Dataset({\n    features: ['label', 'article', 'input_ids', 'token_type_ids', 'attention_mask'],\n    num_rows: 2244\n}) Dataset({\n    features: ['label', 'article', 'input_ids', 'token_type_ids', 'attention_mask'],\n    num_rows: 481\n}) Dataset({\n    features: ['label', 'article', 'input_ids', 'token_type_ids', 'attention_mask'],\n    num_rows: 481\n})\n",
          "output_type": "stream"
        }
      ],
      "execution_count": null
    },
    {
      "cell_type": "code",
      "source": [
        "\n",
        "# 4. Set up model\n",
        "from transformers import ElectraForSequenceClassification\n",
        "model_name = \"google/electra-small-discriminator\"\n",
        "model = ElectraForSequenceClassification.from_pretrained(model_name, num_labels=2)"
      ],
      "metadata": {
        "trusted": true,
        "execution": {
          "iopub.status.busy": "2025-09-03T15:14:21.221480Z",
          "iopub.execute_input": "2025-09-03T15:14:21.221755Z",
          "iopub.status.idle": "2025-09-03T15:14:47.959996Z",
          "shell.execute_reply.started": "2025-09-03T15:14:21.221736Z",
          "shell.execute_reply": "2025-09-03T15:14:47.959233Z"
        },
        "colab": {
          "referenced_widgets": [
            "2010b3cb23ca4de5b7eb2c06369a5943",
            "b68703e0665d4866875710bb473883e6",
            "647dcada03d04719b92353f871fff5df"
          ]
        },
        "id": "vi3k7LYAQyUx",
        "outputId": "967c0104-6e84-4cc0-cc2f-a5b4f90a2906"
      },
      "outputs": [
        {
          "name": "stderr",
          "text": "2025-09-03 15:14:33.096058: E external/local_xla/xla/stream_executor/cuda/cuda_fft.cc:477] Unable to register cuFFT factory: Attempting to register factory for plugin cuFFT when one has already been registered\nWARNING: All log messages before absl::InitializeLog() is called are written to STDERR\nE0000 00:00:1756912473.281137      36 cuda_dnn.cc:8310] Unable to register cuDNN factory: Attempting to register factory for plugin cuDNN when one has already been registered\nE0000 00:00:1756912473.335189      36 cuda_blas.cc:1418] Unable to register cuBLAS factory: Attempting to register factory for plugin cuBLAS when one has already been registered\n",
          "output_type": "stream"
        },
        {
          "output_type": "display_data",
          "data": {
            "text/plain": "config.json:   0%|          | 0.00/665 [00:00<?, ?B/s]",
            "application/vnd.jupyter.widget-view+json": {
              "version_major": 2,
              "version_minor": 0,
              "model_id": "2010b3cb23ca4de5b7eb2c06369a5943"
            }
          },
          "metadata": {}
        },
        {
          "output_type": "display_data",
          "data": {
            "text/plain": "pytorch_model.bin:   0%|          | 0.00/54.2M [00:00<?, ?B/s]",
            "application/vnd.jupyter.widget-view+json": {
              "version_major": 2,
              "version_minor": 0,
              "model_id": "b68703e0665d4866875710bb473883e6"
            }
          },
          "metadata": {}
        },
        {
          "name": "stderr",
          "text": "Some weights of ElectraForSequenceClassification were not initialized from the model checkpoint at google/electra-small-discriminator and are newly initialized: ['classifier.dense.bias', 'classifier.dense.weight', 'classifier.out_proj.bias', 'classifier.out_proj.weight']\nYou should probably TRAIN this model on a down-stream task to be able to use it for predictions and inference.\n",
          "output_type": "stream"
        },
        {
          "output_type": "display_data",
          "data": {
            "text/plain": "model.safetensors:   0%|          | 0.00/54.2M [00:00<?, ?B/s]",
            "application/vnd.jupyter.widget-view+json": {
              "version_major": 2,
              "version_minor": 0,
              "model_id": "647dcada03d04719b92353f871fff5df"
            }
          },
          "metadata": {}
        }
      ],
      "execution_count": null
    },
    {
      "cell_type": "code",
      "source": [
        "\n",
        "# 5. Training with early stopping\n",
        "from transformers import TrainingArguments, Trainer, EarlyStoppingCallback\n",
        "from evaluate import load\n",
        "import numpy as np\n",
        "\n",
        "os.environ[\"WANDB_DISABLED\"] = \"true\"  # Disable wandb logging\n",
        "\n",
        "def compute_metrics(eval_pred):\n",
        "    f1_metric = load(\"f1\")\n",
        "    acc_metric = load(\"accuracy\")\n",
        "    predictions, labels = eval_pred\n",
        "    predictions = np.argmax(predictions, axis=1)\n",
        "    f1_result = f1_metric.compute(predictions=predictions, references=labels, average=\"weighted\")\n",
        "    acc_result = acc_metric.compute(predictions=predictions, references=labels)\n",
        "    return {\n",
        "        \"f1\": f1_result[\"f1\"],\n",
        "        \"accuracy\": acc_result[\"accuracy\"]\n",
        "    }\n",
        "\n",
        "# Adjust batch sizes if you hit RAM limits (Kaggle RAM is 16GB)\n",
        "training_args = TrainingArguments(\n",
        "    output_dir='/kaggle/working/tagalog-fake-news-detection/results',\n",
        "    num_train_epochs=10,\n",
        "    per_device_train_batch_size=32,   # Reduce from 32 if you get OOM errors\n",
        "    per_device_eval_batch_size=32,    # Same here\n",
        "    learning_rate=2e-5,\n",
        "    weight_decay=0.01,\n",
        "    logging_dir='/kaggle/working/tagalog-fake-news-detection/logs',\n",
        "    logging_steps=100,\n",
        "    eval_strategy=\"epoch\",\n",
        "    save_strategy=\"epoch\",\n",
        "    load_best_model_at_end=True,\n",
        "    metric_for_best_model=\"f1\",\n",
        "    greater_is_better=True,\n",
        "    report_to=None\n",
        ")\n",
        "\n",
        "trainer = Trainer(\n",
        "    model=model,\n",
        "    args=training_args,\n",
        "    train_dataset=train_dataset,\n",
        "    eval_dataset=val_dataset,\n",
        "    compute_metrics=compute_metrics,\n",
        "    callbacks=[EarlyStoppingCallback(early_stopping_patience=2)]\n",
        ")\n",
        "\n",
        "trainer.train()\n",
        "\n"
      ],
      "metadata": {
        "trusted": true,
        "execution": {
          "iopub.status.busy": "2025-09-03T15:14:59.076275Z",
          "iopub.execute_input": "2025-09-03T15:14:59.077546Z",
          "iopub.status.idle": "2025-09-03T15:19:52.730230Z",
          "shell.execute_reply.started": "2025-09-03T15:14:59.077511Z",
          "shell.execute_reply": "2025-09-03T15:19:52.729558Z"
        },
        "colab": {
          "referenced_widgets": [
            "8381fa2740de47e3a710e90500e75ee9",
            "74fecfdf49224e1c96bf6e304dfe26c5"
          ]
        },
        "id": "-5NZgWy1QyUx",
        "outputId": "50fb7191-6e5c-4a93-f774-21f24911526c"
      },
      "outputs": [
        {
          "name": "stderr",
          "text": "Using the `WANDB_DISABLED` environment variable is deprecated and will be removed in v5. Use the --report_to flag to control the integrations used for logging result (for instance --report_to none).\n",
          "output_type": "stream"
        },
        {
          "output_type": "display_data",
          "data": {
            "text/plain": "<IPython.core.display.HTML object>",
            "text/html": "\n    <div>\n      \n      <progress value='710' max='710' style='width:300px; height:20px; vertical-align: middle;'></progress>\n      [710/710 04:49, Epoch 10/10]\n    </div>\n    <table border=\"1\" class=\"dataframe\">\n  <thead>\n <tr style=\"text-align: left;\">\n      <th>Epoch</th>\n      <th>Training Loss</th>\n      <th>Validation Loss</th>\n      <th>F1</th>\n      <th>Accuracy</th>\n    </tr>\n  </thead>\n  <tbody>\n    <tr>\n      <td>1</td>\n      <td>No log</td>\n      <td>0.474650</td>\n      <td>0.823092</td>\n      <td>0.825364</td>\n    </tr>\n    <tr>\n      <td>2</td>\n      <td>0.555100</td>\n      <td>0.344153</td>\n      <td>0.893846</td>\n      <td>0.893971</td>\n    </tr>\n    <tr>\n      <td>3</td>\n      <td>0.346500</td>\n      <td>0.347786</td>\n      <td>0.869548</td>\n      <td>0.871102</td>\n    </tr>\n    <tr>\n      <td>4</td>\n      <td>0.346500</td>\n      <td>0.257828</td>\n      <td>0.918904</td>\n      <td>0.918919</td>\n    </tr>\n    <tr>\n      <td>5</td>\n      <td>0.273300</td>\n      <td>0.260464</td>\n      <td>0.908373</td>\n      <td>0.908524</td>\n    </tr>\n    <tr>\n      <td>6</td>\n      <td>0.212500</td>\n      <td>0.221157</td>\n      <td>0.927217</td>\n      <td>0.927235</td>\n    </tr>\n    <tr>\n      <td>7</td>\n      <td>0.212500</td>\n      <td>0.217741</td>\n      <td>0.927159</td>\n      <td>0.927235</td>\n    </tr>\n    <tr>\n      <td>8</td>\n      <td>0.163600</td>\n      <td>0.205378</td>\n      <td>0.937573</td>\n      <td>0.937630</td>\n    </tr>\n    <tr>\n      <td>9</td>\n      <td>0.153500</td>\n      <td>0.194860</td>\n      <td>0.941777</td>\n      <td>0.941788</td>\n    </tr>\n    <tr>\n      <td>10</td>\n      <td>0.127400</td>\n      <td>0.195992</td>\n      <td>0.939694</td>\n      <td>0.939709</td>\n    </tr>\n  </tbody>\n</table><p>"
          },
          "metadata": {}
        },
        {
          "output_type": "display_data",
          "data": {
            "text/plain": "Downloading builder script: 0.00B [00:00, ?B/s]",
            "application/vnd.jupyter.widget-view+json": {
              "version_major": 2,
              "version_minor": 0,
              "model_id": "8381fa2740de47e3a710e90500e75ee9"
            }
          },
          "metadata": {}
        },
        {
          "output_type": "display_data",
          "data": {
            "text/plain": "Downloading builder script: 0.00B [00:00, ?B/s]",
            "application/vnd.jupyter.widget-view+json": {
              "version_major": 2,
              "version_minor": 0,
              "model_id": "74fecfdf49224e1c96bf6e304dfe26c5"
            }
          },
          "metadata": {}
        },
        {
          "execution_count": 7,
          "output_type": "execute_result",
          "data": {
            "text/plain": "TrainOutput(global_step=710, training_loss=0.25971754738982294, metrics={'train_runtime': 290.8624, 'train_samples_per_second': 77.15, 'train_steps_per_second': 2.441, 'total_flos': 660176740270080.0, 'train_loss': 0.25971754738982294, 'epoch': 10.0})"
          },
          "metadata": {}
        }
      ],
      "execution_count": null
    },
    {
      "cell_type": "code",
      "source": [
        "# 6. Logging and Saving Outputs\n",
        "import json\n",
        "import pandas as pd\n",
        "import numpy as np\n",
        "from sklearn.metrics import confusion_matrix, classification_report\n",
        "\n",
        "label_names = ['Real', 'Fake']  # Update if your labels are different\n",
        "\n",
        "predictions = trainer.predict(test_dataset)\n",
        "\n",
        "output_dir = \"/kaggle/working/tagalog-fake-news-detection/outputs\"\n",
        "os.makedirs(output_dir, exist_ok=True)\n",
        "\n",
        "metrics = predictions.metrics\n",
        "metrics_file = os.path.join(output_dir, 'electra-small_metrics.json')\n",
        "with open(metrics_file, 'w') as f:\n",
        "    json.dump(metrics, f, indent=2)\n",
        "print(f\"Saved metrics to {metrics_file}\")\n",
        "\n",
        "preds = np.argmax(predictions.predictions, axis=1)\n",
        "cm = confusion_matrix(predictions.label_ids, preds)\n",
        "cm_df = pd.DataFrame(cm, index=label_names, columns=[f'Predicted {n}' for n in label_names])\n",
        "print(\"\\nConfusion Matrix:\")\n",
        "print(cm_df)\n",
        "\n",
        "cm_file = os.path.join(output_dir, 'electra-small_cm.csv')\n",
        "cm_df.to_csv(cm_file)\n",
        "print(f\"Saved confusion matrix to {cm_file}\")\n",
        "\n",
        "results_df = pd.DataFrame({\n",
        "    'true_label': predictions.label_ids,\n",
        "    'predicted_label': preds\n",
        "})\n",
        "results_file = os.path.join(output_dir, 'electra-small_predictions.csv')\n",
        "results_df.to_csv(results_file, index=False)\n",
        "print(f\"Saved raw predictions to {results_file}\")\n",
        "\n",
        "report = classification_report(predictions.label_ids, preds, target_names=label_names, output_dict=True)\n",
        "report_file = os.path.join(output_dir, 'electra-small_classification_report.json')\n",
        "with open(report_file, 'w') as f:\n",
        "    json.dump(report, f, indent=2)\n",
        "print(\"\\nClassification Report:\")\n",
        "print(pd.DataFrame(report).transpose())\n",
        "print(f\"Saved classification report to {report_file}\")\n"
      ],
      "metadata": {
        "trusted": true,
        "execution": {
          "iopub.status.busy": "2025-09-03T15:20:22.701510Z",
          "iopub.execute_input": "2025-09-03T15:20:22.702381Z",
          "iopub.status.idle": "2025-09-03T15:20:26.921406Z",
          "shell.execute_reply.started": "2025-09-03T15:20:22.702353Z",
          "shell.execute_reply": "2025-09-03T15:20:26.920744Z"
        },
        "id": "PfLdWgo5QyUx",
        "outputId": "52b47041-8ee5-4601-e73f-8d6e6489f876"
      },
      "outputs": [
        {
          "output_type": "display_data",
          "data": {
            "text/plain": "<IPython.core.display.HTML object>",
            "text/html": ""
          },
          "metadata": {}
        },
        {
          "name": "stdout",
          "text": "Saved metrics to /kaggle/working/tagalog-fake-news-detection/outputs/electra-small_metrics.json\n\nConfusion Matrix:\n      Predicted Real  Predicted Fake\nReal             219              22\nFake              12             228\nSaved confusion matrix to /kaggle/working/tagalog-fake-news-detection/outputs/electra-small_cm.csv\nSaved raw predictions to /kaggle/working/tagalog-fake-news-detection/outputs/electra-small_predictions.csv\n\nClassification Report:\n              precision    recall  f1-score     support\nReal           0.948052  0.908714  0.927966  241.000000\nFake           0.912000  0.950000  0.930612  240.000000\naccuracy       0.929314  0.929314  0.929314    0.929314\nmacro avg      0.930026  0.929357  0.929289  481.000000\nweighted avg   0.930063  0.929314  0.929286  481.000000\nSaved classification report to /kaggle/working/tagalog-fake-news-detection/outputs/electra-small_classification_report.json\n",
          "output_type": "stream"
        }
      ],
      "execution_count": null
    },
    {
      "cell_type": "code",
      "source": [
        "\n",
        "# 7. Push trained model to HuggingFace\n",
        "from huggingface_hub import login\n",
        "login(\"\")  # Replace with your token\n",
        "trainer.push_to_hub(\"electra-small-fake-news-filipino\")"
      ],
      "metadata": {
        "trusted": true,
        "execution": {
          "iopub.status.busy": "2025-09-03T15:20:39.096466Z",
          "iopub.execute_input": "2025-09-03T15:20:39.097024Z",
          "iopub.status.idle": "2025-09-03T15:20:50.818143Z",
          "shell.execute_reply.started": "2025-09-03T15:20:39.097001Z",
          "shell.execute_reply": "2025-09-03T15:20:50.817525Z"
        },
        "colab": {
          "referenced_widgets": [
            "70062fb8a49f44029e8944670afd98e1"
          ]
        },
        "id": "u0bR7GutQyUy",
        "outputId": "a0c44cd1-18c2-49b3-e454-5d0db75e5c96"
      },
      "outputs": [
        {
          "output_type": "display_data",
          "data": {
            "text/plain": "Uploading...:   0%|          | 0.00/54.2M [00:00<?, ?B/s]",
            "application/vnd.jupyter.widget-view+json": {
              "version_major": 2,
              "version_minor": 0,
              "model_id": "70062fb8a49f44029e8944670afd98e1"
            }
          },
          "metadata": {}
        },
        {
          "execution_count": 9,
          "output_type": "execute_result",
          "data": {
            "text/plain": "CommitInfo(commit_url='https://huggingface.co/jcunado/results/commit/b0e0130eb11df0da636d999e86617b91667c0231', commit_message='electra-small-fake-news-filipino', commit_description='', oid='b0e0130eb11df0da636d999e86617b91667c0231', pr_url=None, repo_url=RepoUrl('https://huggingface.co/jcunado/results', endpoint='https://huggingface.co', repo_type='model', repo_id='jcunado/results'), pr_revision=None, pr_num=None)"
          },
          "metadata": {}
        }
      ],
      "execution_count": null
    },
    {
      "cell_type": "code",
      "source": [
        "%cd /kaggle/working/tagalog-fake-news-detection/\n",
        "!git config --global user.name \"joms-hub\"\n",
        "!git config --global user.email \"21101932@usc.edu.ph\"\n",
        "!git remote set-url origin https://@github.com/joms-hub/tagalog-fake-news-detection.git"
      ],
      "metadata": {
        "trusted": true,
        "execution": {
          "iopub.status.busy": "2025-09-03T14:42:38.115377Z",
          "iopub.execute_input": "2025-09-03T14:42:38.116189Z",
          "iopub.status.idle": "2025-09-03T14:42:39.000340Z",
          "shell.execute_reply.started": "2025-09-03T14:42:38.116155Z",
          "shell.execute_reply": "2025-09-03T14:42:38.999358Z"
        },
        "id": "sPGwQ8eoQyUy",
        "outputId": "d2f3bea4-a552-4fc5-cef6-b7e9e2ea120d"
      },
      "outputs": [
        {
          "name": "stdout",
          "text": "/kaggle/working/tagalog-fake-news-detection\nrm 'notebooks/mobilebert_training.ipynb'\n",
          "output_type": "stream"
        }
      ],
      "execution_count": null
    }
  ]
}