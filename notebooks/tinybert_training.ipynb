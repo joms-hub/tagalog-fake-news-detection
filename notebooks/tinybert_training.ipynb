{
 "cells": [
  {
   "cell_type": "markdown",
   "metadata": {
    "id": "sc-MREUhK1VV"
   },
   "source": [
    "# TinyBERT Training/Fine-tuning"
   ]
  },
  {
   "cell_type": "markdown",
   "metadata": {
    "id": "E48r2hdyK5ZT"
   },
   "source": [
    "### 1. Colab Setup for **Training**"
   ]
  },
  {
   "cell_type": "code",
   "execution_count": null,
   "metadata": {
    "colab": {
     "base_uri": "https://localhost:8080/"
    },
    "executionInfo": {
     "elapsed": 459,
     "status": "ok",
     "timestamp": 1756662475715,
     "user": {
      "displayName": "Petal Press",
      "userId": "16548391382757309766"
     },
     "user_tz": -480
    },
    "id": "nurHYRqPOgsS",
    "outputId": "9aa374b3-8b30-4ce0-e61b-93a269cbae64"
   },
   "outputs": [],
   "source": [
    "!git clone https://github.com/joms-hub/tagalog-fake-news-detection.git\n",
    "!git config --global user.name \"Your Name\"\n",
    "!git config --global user.email \"Your Email\"\n",
    "\n",
    "%cd /content/tagalog-fake-news-detection\n",
    "!git remote set-url origin https://<TOKEN>@github.com/joms-hub/tagalog-fake-news-detection.git\n"
   ]
  },
  {
   "cell_type": "code",
   "execution_count": null,
   "metadata": {
    "id": "itScVZaGU5kx"
   },
   "outputs": [],
   "source": [
    "from google.colab import drive\n",
    "drive.mount('/content/drive')"
   ]
  },
  {
   "cell_type": "code",
   "execution_count": null,
   "metadata": {
    "executionInfo": {
     "elapsed": 24,
     "status": "ok",
     "timestamp": 1756662613603,
     "user": {
      "displayName": "Petal Press",
      "userId": "16548391382757309766"
     },
     "user_tz": -480
    },
    "id": "6WFmbLmFP2XU"
   },
   "outputs": [],
   "source": [
    "import os\n",
    "\n",
    "os.environ[\"WANDB_DISABLED\"] = \"true\""
   ]
  },
  {
   "cell_type": "code",
   "execution_count": null,
   "metadata": {
    "colab": {
     "base_uri": "https://localhost:8080/"
    },
    "executionInfo": {
     "elapsed": 15879,
     "status": "ok",
     "timestamp": 1756662496494,
     "user": {
      "displayName": "Petal Press",
      "userId": "16548391382757309766"
     },
     "user_tz": -480
    },
    "id": "eMyh5wikK_4s",
    "outputId": "525615a7-0ca1-4e7c-c3c1-37e6518c6ef5"
   },
   "outputs": [],
   "source": [
    "!pip install transformers datasets evaluate"
   ]
  },
  {
   "cell_type": "markdown",
   "metadata": {
    "id": "qCpSijjFQ2C9"
   },
   "source": [
    "### 2. Model Training"
   ]
  },
  {
   "cell_type": "markdown",
   "metadata": {
    "id": "_SecplI5Q4Qa"
   },
   "source": [
    "#### 2.1 Load Preprocessed dataset from Day 2"
   ]
  },
  {
   "cell_type": "code",
   "execution_count": null,
   "metadata": {
    "colab": {
     "base_uri": "https://localhost:8080/"
    },
    "executionInfo": {
     "elapsed": 821,
     "status": "ok",
     "timestamp": 1756662622858,
     "user": {
      "displayName": "Petal Press",
      "userId": "16548391382757309766"
     },
     "user_tz": -480
    },
    "id": "xz0yDSWNQ_9C",
    "outputId": "b8d6aa31-4c39-433d-946c-09e547a8683a"
   },
   "outputs": [],
   "source": [
    "from datasets import load_from_disk\n",
    "\n",
    "train_dataset = load_from_disk(\"/content/tagalog-fake-news-detection/tokenized/TinyBERT_train\")\n",
    "val_dataset   = load_from_disk(\"/content/tagalog-fake-news-detection/tokenized/TinyBERT_val\")\n",
    "test_dataset  = load_from_disk(\"/content/tagalog-fake-news-detection/tokenized/TinyBERT_test\")\n",
    "\n",
    "print(train_dataset, val_dataset, test_dataset)\n"
   ]
  },
  {
   "cell_type": "markdown",
   "metadata": {
    "id": "hi9MWApFRLW2"
   },
   "source": [
    "#### 2.2 Set up model"
   ]
  },
  {
   "cell_type": "code",
   "execution_count": null,
   "metadata": {
    "colab": {
     "base_uri": "https://localhost:8080/",
     "height": 300,
     "referenced_widgets": [
      "880edaf2ceb740cab3363e9b14f935e4",
      "0e2414b0b4c54104b1aa572ecf396308",
      "3c48c4a7766c4dd3a4619cd9c7287ab6",
      "90a9f4ef7cbd413491618954a5c62b5f",
      "5631c6aa4b77450da40e2d0cc3c6da4c",
      "d2318d4a90bc4cbaa3ad8552e13c6c40",
      "2cf21adceb9a47678c1a555296a1aa46",
      "cb54f10de25c41be8d3b4072caf70501",
      "fe075e570d624779bcdaf60fd5715a46",
      "eac61e03003149eb80095d420eb27436",
      "472b63c97c1440c48c4f8f3dc8ed9333",
      "801734681d4644f4bc173b7e63e65cb0",
      "c9646ce8ebb6474a8b327eac8d08c27c",
      "fa80cbdddea74efab948d0981f08cb92",
      "db60f0a540554c5b890c270d41c5fc61",
      "b9aa0e737de44865ba22aaa75e9e121b",
      "78e9d894c2c54357b7ff89b7afd2ab2d",
      "ad8eeebcbb1641a48d07191b4aff1dc0",
      "fe6a81997a45455bbf56664650e476db",
      "d6d881126b3b486598574384fd50e0a2",
      "29cd4616fd6145c884087eee325964f0",
      "bef464f9cafe4052a3a77e79151d620c"
     ]
    },
    "executionInfo": {
     "elapsed": 6135,
     "status": "ok",
     "timestamp": 1756662871891,
     "user": {
      "displayName": "Petal Press",
      "userId": "16548391382757309766"
     },
     "user_tz": -480
    },
    "id": "AZbXwXvuSEIo",
    "outputId": "77898170-2a1a-4a20-ea06-a1f32df92cdd"
   },
   "outputs": [],
   "source": [
    "from transformers import BertForSequenceClassification\n",
    "model_name = \"huawei-noah/TinyBERT_General_4L_312D\"\n",
    "model = BertForSequenceClassification.from_pretrained(model_name, num_labels=2)"
   ]
  },
  {
   "cell_type": "markdown",
   "metadata": {
    "id": "At5VYpSHXSv-"
   },
   "source": [
    "#### 2.3 Finetuning model with early stopping"
   ]
  },
  {
   "cell_type": "code",
   "execution_count": null,
   "metadata": {
    "colab": {
     "base_uri": "https://localhost:8080/",
     "height": 564,
     "referenced_widgets": [
      "959fec65144c41fd919434adb5181ae1",
      "4e3ac663a3c74ccc9ad0700e636b4449",
      "8845dc1c977445ada50b45787caf1eef",
      "e0c374e8895c441e9afc2f540b375c7e",
      "7edc2f14b34f415297dde24d9462fc23",
      "435ebe24b7b34b8eb0fe88511c256c29",
      "e60b198fcf894897a529e0b59387f782",
      "254fc60ad79c4b08ab972621f29d2aca",
      "d5d84a63415940f8a7a6276b03b513ef",
      "95aafb2980954843aab481e95f63045f",
      "3a5c7fed57074313916a6b28e854143e",
      "98ce015f005c4777991e9d7c3ae2e46b",
      "b5cc6a379cfc45acb6d490a4b8555825",
      "9550db9b03924dfd8f3ad520ad98dfc6",
      "8781c7f9b1c54647888e47b42e20838c",
      "4c72f59bba3a4d958f61e7e92a51cb06",
      "56f2b4abc3404300ba1ed92114938155",
      "0320693bc16b4cbea3859a483cfc02c1",
      "f7745d3ad2de4263b2196fd183a1b65f",
      "41a03a33c3d54ff5aee07d692b80d82d",
      "a0d18fa7b3d6457ca8dc74d4849692d7",
      "fde6be2133b141c086877a8c749b6936"
     ]
    },
    "executionInfo": {
     "elapsed": 282305,
     "status": "ok",
     "timestamp": 1756663246690,
     "user": {
      "displayName": "Petal Press",
      "userId": "16548391382757309766"
     },
     "user_tz": -480
    },
    "id": "n_4rZ1fBXVm2",
    "outputId": "94f4a10b-4b5a-49b0-b1ec-7598a3e401fe"
   },
   "outputs": [],
   "source": [
    "from transformers import TrainingArguments, Trainer, EarlyStoppingCallback\n",
    "from evaluate import load\n",
    "import numpy as np\n",
    "\n",
    "# Define a function to compute metrics\n",
    "def compute_metrics(eval_pred):\n",
    "    f1_metric = load(\"f1\")\n",
    "    acc_metric = load(\"accuracy\")\n",
    "    predictions, labels = eval_pred\n",
    "    predictions = np.argmax(predictions, axis=1)\n",
    "    f1_result = f1_metric.compute(predictions=predictions, references=labels, average=\"weighted\")\n",
    "    acc_result = acc_metric.compute(predictions=predictions, references=labels)\n",
    "    # Combine results into one dictionary for logging\n",
    "    return {\n",
    "        \"f1\": f1_result[\"f1\"],\n",
    "        \"accuracy\": acc_result[\"accuracy\"]\n",
    "    }\n",
    "\n",
    "# Define training arguments with early stopping settings\n",
    "training_args = TrainingArguments(\n",
    "    output_dir='./results',\n",
    "    num_train_epochs=10,\n",
    "    per_device_train_batch_size=32,\n",
    "    per_device_eval_batch_size=32,\n",
    "    learning_rate=2e-5,\n",
    "    weight_decay=0.01,\n",
    "    logging_dir='./logs',\n",
    "    logging_steps=100,\n",
    "    eval_strategy=\"epoch\",\n",
    "    save_strategy=\"epoch\",\n",
    "    load_best_model_at_end=True,\n",
    "    metric_for_best_model=\"f1\",\n",
    "    greater_is_better=True,\n",
    "    report_to=None\n",
    ")\n",
    "\n",
    "# Initialize the Trainer\n",
    "trainer = Trainer(\n",
    "    model=model,\n",
    "    args=training_args,\n",
    "    train_dataset=train_dataset,\n",
    "    eval_dataset=val_dataset,\n",
    "    compute_metrics=compute_metrics,\n",
    "    callbacks=[EarlyStoppingCallback(early_stopping_patience=2)]\n",
    ")\n",
    "\n",
    "# Start the training process\n",
    "trainer.train()"
   ]
  },
  {
   "cell_type": "markdown",
   "metadata": {
    "id": "DQNuZrWp_vCN"
   },
   "source": [
    "### 3. Logging and Saving Outputs"
   ]
  },
  {
   "cell_type": "code",
   "execution_count": null,
   "metadata": {
    "colab": {
     "base_uri": "https://localhost:8080/",
     "height": 341
    },
    "executionInfo": {
     "elapsed": 4065,
     "status": "ok",
     "timestamp": 1756663503165,
     "user": {
      "displayName": "Petal Press",
      "userId": "16548391382757309766"
     },
     "user_tz": -480
    },
    "id": "J67g_FuY_6-E",
    "outputId": "5eb91423-4880-4c3b-b1e5-f997ed266b60"
   },
   "outputs": [],
   "source": [
    "import os\n",
    "import json\n",
    "import pandas as pd\n",
    "import numpy as np\n",
    "from sklearn.metrics import confusion_matrix, classification_report\n",
    "\n",
    "# Optional: Define label names dynamically\n",
    "label_names = ['Real', 'Fake']  # Or load from your dataset/processor\n",
    "\n",
    "# Get predictions on the test set\n",
    "predictions = trainer.predict(test_dataset)\n",
    "\n",
    "# Ensure output directory exists\n",
    "output_dir = \"./outputs\"\n",
    "os.makedirs(output_dir, exist_ok=True)\n",
    "\n",
    "# Extract and save metrics\n",
    "metrics = predictions.metrics\n",
    "metrics_file = os.path.join(output_dir, 'tinybert_metrics.json')\n",
    "with open(metrics_file, 'w') as f:\n",
    "    json.dump(metrics, f, indent=2)\n",
    "print(f\"Saved metrics to {metrics_file}\")\n",
    "\n",
    "# Generate and print the confusion matrix\n",
    "preds = np.argmax(predictions.predictions, axis=1)\n",
    "cm = confusion_matrix(predictions.label_ids, preds)\n",
    "cm_df = pd.DataFrame(cm, index=label_names, columns=[f'Predicted {n}' for n in label_names])\n",
    "print(\"\\nConfusion Matrix:\")\n",
    "print(cm_df)\n",
    "\n",
    "# Save the confusion matrix to a CSV file\n",
    "cm_file = os.path.join(output_dir, 'tinybert_cm.csv')\n",
    "cm_df.to_csv(cm_file)\n",
    "print(f\"Saved confusion matrix to {cm_file}\")\n",
    "\n",
    "# Save raw predictions and true labels for error analysis\n",
    "results_df = pd.DataFrame({\n",
    "    'true_label': predictions.label_ids,\n",
    "    'predicted_label': preds\n",
    "})\n",
    "results_file = os.path.join(output_dir, 'tinybert_predictions.csv')\n",
    "results_df.to_csv(results_file, index=False)\n",
    "print(f\"Saved raw predictions to {results_file}\")\n",
    "\n",
    "# Print and save a full classification report\n",
    "report = classification_report(predictions.label_ids, preds, target_names=label_names, output_dict=True)\n",
    "report_file = os.path.join(output_dir, 'tinybert_classification_report.json')\n",
    "with open(report_file, 'w') as f:\n",
    "    json.dump(report, f, indent=2)\n",
    "print(\"\\nClassification Report:\")\n",
    "print(pd.DataFrame(report).transpose())\n",
    "print(f\"Saved classification report to {report_file}\")"
   ]
  },
  {
   "cell_type": "markdown",
   "metadata": {
    "id": "mK8DCqh9Do6M"
   },
   "source": [
    "### 6. Push trained model to HuggingFace"
   ]
  },
  {
   "cell_type": "code",
   "execution_count": null,
   "metadata": {
    "colab": {
     "base_uri": "https://localhost:8080/"
    },
    "executionInfo": {
     "elapsed": 5710,
     "status": "ok",
     "timestamp": 1756663521816,
     "user": {
      "displayName": "Petal Press",
      "userId": "16548391382757309766"
     },
     "user_tz": -480
    },
    "id": "mCpiADEnDs7_",
    "outputId": "6a2880f6-0d14-4308-ee6a-c4c178ac164e"
   },
   "outputs": [],
   "source": [
    "!pip install huggingface_hub --upgrade"
   ]
  },
  {
   "cell_type": "code",
   "execution_count": null,
   "metadata": {
    "executionInfo": {
     "elapsed": 245,
     "status": "ok",
     "timestamp": 1756663522084,
     "user": {
      "displayName": "Petal Press",
      "userId": "16548391382757309766"
     },
     "user_tz": -480
    },
    "id": "eOE0k85BKKIj"
   },
   "outputs": [],
   "source": [
    "from huggingface_hub import login\n",
    "\n",
    "login(\"Insert Token Here\")  # Paste your token here"
   ]
  },
  {
   "cell_type": "code",
   "execution_count": null,
   "metadata": {
    "colab": {
     "base_uri": "https://localhost:8080/",
     "height": 326,
     "referenced_widgets": [
      "48d8fcbca8ec4e8c8cf4333fb4091f51",
      "616c3d0c52564b99a8aa496d74827255",
      "f1fedc07169c46d2853525e2025f6f50",
      "c939d63065074db39c5e7ce33364c8ea",
      "525583d17d4d4b2da83bce1a154f23a6",
      "a2dd9b8cb5d04402b72555633b1a7de0",
      "2b9749c66ea3420eb258ceaac5929055",
      "f90a4d5206824137a042426657d40f5c",
      "def3b25b5b004c959f399cdee9c0915c",
      "b450ccc9fa9e424b93a4e06d00394e66",
      "d490ec60d5c34f71ad306881abd8ffb9",
      "c21bee0867f549e2b67c343fc4adbd86",
      "e78fc984daa94211becfa90971fa708d",
      "49aa824b2f144808afc9ce19ec144485",
      "15846fab83d042ab9d519be813571b97",
      "a313e02b951c4d59bf205accc5e5b7c3",
      "e99a422242594b3bb728f8d11174b407",
      "d328738291504dbbb18d27bbfc37e31d",
      "d7a8a6d48605436fbb342bd951fc5c49",
      "353d97e679b24b358bc23e0a6aadd811",
      "3b12bcb08bb941b29e958af5661e15f5",
      "72eb0f3041984a76afd7d2bcf5a452f9",
      "dfb7847c1cff49148e36e1ad5c27544e",
      "993ea620f99847c3bdab9d9426ebda73",
      "c07473b7ba424941833fb7020ce638f4",
      "132910dcce8e4fe89f3f4030694cf1f7",
      "406dbe16ce8d4027a481fbab8656103b",
      "6891fa6a92164765a955db1e078b91dc",
      "525481a452ac4efc9b0a98e7f5dd27fc",
      "fb9bd5c17a0946ea9e37ea3c95a11cbe",
      "10def1d3819e421abb4805d565959c84",
      "457f4eca988e41e9996cad11b5530258",
      "772529ec8b59427daee92d24d6bbc401",
      "dbc3c5ad48d64215aa61c7b7fd206fcf",
      "9cfd8abf148e4fdb95e689d920430931",
      "9d57e8167140446a88c48984c401198f",
      "aa4c80ea8a0e48b09443896252b44d21",
      "03dfcacf87f34df78ff0f78058ab0a42",
      "056f66a63081470287fda4a5ac541e67",
      "51d24f0706d84e5989ed8076ef162212",
      "6a99cacb27df4618a54f249ce0afb766",
      "7e5ab9a5e4f24010aa1133e1f24e5068",
      "1d2a3fc8fd434b0493622c0e876b7d82",
      "d3419b5b183e45c2bc6d2dc3cfa90c06"
     ]
    },
    "executionInfo": {
     "elapsed": 14976,
     "status": "ok",
     "timestamp": 1756663539856,
     "user": {
      "displayName": "Petal Press",
      "userId": "16548391382757309766"
     },
     "user_tz": -480
    },
    "id": "wQNsNKy_PIrF",
    "outputId": "8a0e99e9-85ea-4c9f-baf4-b5a87d9bc0a7"
   },
   "outputs": [],
   "source": [
    "trainer.push_to_hub(\"tinybert_fake_news_filipino\")"
   ]
  },
  {
   "cell_type": "code",
   "execution_count": null,
   "metadata": {
    "colab": {
     "base_uri": "https://localhost:8080/",
     "height": 420
    },
    "executionInfo": {
     "elapsed": 87,
     "status": "error",
     "timestamp": 1756663865673,
     "user": {
      "displayName": "Petal Press",
      "userId": "16548391382757309766"
     },
     "user_tz": -480
    },
    "id": "aRtPMwMoUnQs",
    "outputId": "e3db1cb2-5648-4f4f-c402-7e604f1bf76e"
   },
   "outputs": [],
   "source": [
    "import shutil\n",
    "\n",
    "shutil.copy('/content/drive/MyDrive/Colab Notebooks/tinybert_training.ipynb', '/content/tagalog-fake-news-detection/notebooks')"
   ]
  }
 ],
 "metadata": {
  "accelerator": "GPU",
  "colab": {
   "authorship_tag": "ABX9TyOwYYjLDO42uHz5pYvMHkMf",
   "gpuType": "T4",
   "provenance": [
    {
     "file_id": "1KTcl17YT6DtVyST7VqqtqSBozrM-aZg7",
     "timestamp": 1756662143399
    }
   ]
  },
  "kernelspec": {
   "display_name": "Python 3",
   "name": "python3"
  },
  "language_info": {
   "name": "python"
  }
 },
 "nbformat": 4,
 "nbformat_minor": 0
}
